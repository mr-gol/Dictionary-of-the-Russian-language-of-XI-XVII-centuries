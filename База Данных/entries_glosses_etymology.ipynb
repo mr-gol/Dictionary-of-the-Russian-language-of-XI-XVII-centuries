{
 "cells": [
  {
   "cell_type": "code",
   "execution_count": 1,
   "metadata": {},
   "outputs": [],
   "source": [
    "import sqlite3\n",
    "import pandas as pd\n",
    "import json\n",
    "import re\n",
    "from string import punctuation\n",
    "from bs4 import BeautifulSoup\n",
    "import os\n",
    "from tqdm import tqdm"
   ]
  },
  {
   "attachments": {},
   "cell_type": "markdown",
   "metadata": {},
   "source": [
    "### Сбор таблицы entries"
   ]
  },
  {
   "attachments": {},
   "cell_type": "markdown",
   "metadata": {},
   "source": [
    "#### 1. Создание таблицы"
   ]
  },
  {
   "cell_type": "code",
   "execution_count": 34,
   "metadata": {},
   "outputs": [],
   "source": [
    "con = sqlite3.connect(\"Dictionary_Final.db\")\n",
    "cur = con.cursor()"
   ]
  },
  {
   "cell_type": "code",
   "execution_count": 35,
   "metadata": {},
   "outputs": [
    {
     "data": {
      "text/plain": [
       "<sqlite3.Cursor at 0x7fec61a672d0>"
      ]
     },
     "execution_count": 35,
     "metadata": {},
     "output_type": "execute_result"
    }
   ],
   "source": [
    "cur.execute('DROP TABLE entries')"
   ]
  },
  {
   "cell_type": "code",
   "execution_count": 36,
   "metadata": {},
   "outputs": [
    {
     "data": {
      "text/plain": [
       "<sqlite3.Cursor at 0x7fec61a672d0>"
      ]
     },
     "execution_count": 36,
     "metadata": {},
     "output_type": "execute_result"
    }
   ],
   "source": [
    "cur.execute(\"\"\"\n",
    "CREATE TABLE IF NOT EXISTS entries (\n",
    "    entry_id INTEGER PRIMARY KEY,\n",
    "    edition INT, \n",
    "    entry_name TEXT,\n",
    "    form TEXT,\n",
    "    is_variant INT,\n",
    "    variant_to_entry INT,\n",
    "    gram_pos TEXT,\n",
    "    gram_gen TEXT,\n",
    "    gram_degree TEXT,\n",
    "    gram_number TEXT,\n",
    "    gram_aspect TEXT,\n",
    "    gram_itype TEXT,\n",
    "    reversed TEXT,\n",
    "    id_entry_to_see INT,\n",
    "    idiom_id INT,\n",
    "    full_text TEXT\n",
    ")\n",
    "\"\"\")"
   ]
  },
  {
   "attachments": {},
   "cell_type": "markdown",
   "metadata": {},
   "source": [
    "#### 2. Сбор всех json с информацией. Сортировка для того, чтобы сохранить порядок томов."
   ]
  },
  {
   "cell_type": "code",
   "execution_count": 37,
   "metadata": {},
   "outputs": [],
   "source": [
    "list_of_files = []\n",
    "path = './all_entries'\n",
    "for (dirpath, dirnames, filenames) in os.walk(path):\n",
    "    for filename in filenames:\n",
    "        if filename.endswith('json'):\n",
    "            list_of_files.append(os.path.join(dirpath, filename))"
   ]
  },
  {
   "cell_type": "code",
   "execution_count": 38,
   "metadata": {},
   "outputs": [],
   "source": [
    "new_list = []\n",
    "for f in list_of_files:\n",
    "    edition = f.split('.')[-2].split('_')[-1]\n",
    "    new_list.append((int(edition), f))\n",
    "new_list.sort(key=lambda x:x[0])"
   ]
  },
  {
   "cell_type": "code",
   "execution_count": 39,
   "metadata": {},
   "outputs": [],
   "source": [
    "# функция, которая изменяет варианты типа CЪ-\n",
    "# пример: СОВНЕСТИ - СЪ- -> СОВНЕСТИ - СЪВНЕСТИ\n",
    "def change_variant(word, variant):\n",
    "    new_variant = variant\n",
    "    if variant.startswith('-'):\n",
    "        variant = variant.strip('-')\n",
    "        if variant == 'СЯ':\n",
    "            new_variant = word+variant\n",
    "        else:\n",
    "            to_change = len(variant)\n",
    "            new_variant = word[:-to_change] + variant\n",
    "    elif variant.endswith('-'):\n",
    "        variant = variant.strip('-')\n",
    "        to_change = len(variant)\n",
    "        new_variant = variant + word[to_change:]\n",
    "    return new_variant"
   ]
  },
  {
   "cell_type": "code",
   "execution_count": 40,
   "metadata": {},
   "outputs": [],
   "source": [
    "# сбор всех слов с их id, чтобы сделать правильные ссылки\n",
    "# от одного слова к другому\n",
    "word_ids = {}\n",
    "i = 1\n",
    "for filename in new_list:\n",
    "    path = filename[1]\n",
    "    with open(path) as f:\n",
    "        words = json.load(f)\n",
    "        for entry in words:\n",
    "            if len(entry) > 0:\n",
    "                word = entry['word'].replace(' ', '').lower()\n",
    "                if word not in word_ids.keys():\n",
    "                    word_ids[word] = i\n",
    "                # если у слова есть вариативность, тоже записываем\n",
    "                if entry['variant']:\n",
    "                        j = i\n",
    "                        for var in entry['variant']:\n",
    "                            j += 1\n",
    "                            if '-' in var:\n",
    "                                var = change_variant(entry['word'], var)\n",
    "                            if var.lower() not in word_ids.keys():\n",
    "                                word_ids[var.lower()] = j\n",
    "                        i = j\n",
    "                i += 1"
   ]
  },
  {
   "attachments": {},
   "cell_type": "markdown",
   "metadata": {},
   "source": [
    "#### 3. Запись в базу данных, сохранение информации о значениях и примерах"
   ]
  },
  {
   "cell_type": "code",
   "execution_count": 41,
   "metadata": {},
   "outputs": [],
   "source": [
    "i = 1\n",
    "definitions = []  # значения и примеры\n",
    "ref_to_find = []  # reference, которые не удалось обработать\n",
    "for filename in new_list:\n",
    "    edition = filename[0]\n",
    "    path = filename[1]\n",
    "    with open(path) as f:\n",
    "        words = json.load(f)\n",
    "        for entry in words:\n",
    "            if len(entry) > 0:\n",
    "                reversed_word = entry['word'][::-1]\n",
    "                entry['word'] = entry['word'].replace(' ', '')\n",
    "                if 'number' not in entry.keys():\n",
    "                    entry['number'] = None\n",
    "                if 'ref' not in entry.keys():\n",
    "                    entry['ref'] = None\n",
    "                if 'aspect' not in entry.keys():\n",
    "                    entry['aspect'] = None\n",
    "                if 'iType' not in entry.keys():\n",
    "                    entry['iType'] = None\n",
    "                if '1sg' not in entry.keys():\n",
    "                    entry['1sg'] = None\n",
    "                if 'pos' not in entry.keys():\n",
    "                    entry['pos'] = None\n",
    "                if (not entry['pos']) and (entry['gen']):\n",
    "                    entry['pos'] = 'NOUN'\n",
    "                if isinstance(entry['1sg'], list):\n",
    "                    entry['1sg'] = ','.join(entry['1sg'])\n",
    "                if isinstance(entry['pos'], list):\n",
    "                    entry['pos'] = ','.join(entry['pos'])\n",
    "                if entry['ref'] and isinstance(entry['ref'], list):\n",
    "                    refs = []\n",
    "                    for ref in entry['ref']:\n",
    "                        if '(' in ref:\n",
    "                            ref = ref.split()[0]\n",
    "                        if ref.lower() in word_ids.keys():\n",
    "                            ref = word_ids[ref.lower()]\n",
    "                        elif f\"{ref.lower()}_1\" in word_ids.keys():\n",
    "                            ref = word_ids[f\"{ref.lower()}_1\"]\n",
    "                        else:\n",
    "                            ref_to_find.append((entry['word'], ref))\n",
    "                        refs.append(str(ref))\n",
    "                    entry['ref'] = ','.join(refs)\n",
    "                cur.execute(\n",
    "                    'INSERT INTO entries VALUES (?,?,?,?,?,?,?,?,?,?,?,?,?,?,?,?)',\n",
    "                    (i, edition, entry['word'], entry['1sg'], 0, None, entry['pos'], \n",
    "                    entry['gen'], entry['degree'], entry['number'], entry['aspect'],\n",
    "                    entry['iType'], reversed_word, entry['ref'], None, entry['full_text'])\n",
    "                )\n",
    "                if entry['senses']:\n",
    "                    for key in entry['senses'].keys():\n",
    "                        definitions.append({\n",
    "                            'word_id': i, \n",
    "                            'edition': edition,\n",
    "                            'definition': key, \n",
    "                            'examples': entry['senses'][key]\n",
    "                        })\n",
    "                if entry['variant']:\n",
    "                    j = i\n",
    "                    for var in entry['variant']:\n",
    "                        if '-' in var:\n",
    "                            var = change_variant(entry['word'], var)\n",
    "                        j += 1\n",
    "                        reversed_word = var[::-1]\n",
    "                        cur.execute(\n",
    "                            'INSERT INTO entries VALUES (?,?,?,?,?,?,?,?,?,?,?,?,?,?,?,?)',\n",
    "                            (j, edition, var, None, 1, i, None, None, None, \n",
    "                            None, None, None, reversed_word, None, None, None)\n",
    "                        )\n",
    "                    i = j\n",
    "                i += 1\n",
    "\n",
    "                con.commit()"
   ]
  },
  {
   "cell_type": "code",
   "execution_count": 42,
   "metadata": {},
   "outputs": [
    {
     "data": {
      "text/plain": [
       "{'word_id': 1,\n",
       " 'edition': 1,\n",
       " 'definition': \"Буква русской азбуки, называемая аз; числовое значение' — 1 (·а҃·), со знаком ҂ 1000.\",\n",
       " 'examples': [['Въ ·а҃·-вую недѣлю.',\n",
       "   'Ж.Феодос. Нест.',\n",
       "   '77',\n",
       "   'XII в.',\n",
       "   '~ 1088 г.'],\n",
       "  ['Коли ся грамота псана ишлъ былъ от рж҃ства гс҃ня до сего лѣта ·҂а҃· лѣт҃ и ·с҃· лѣт҃ и ·и҃· лѣт҃ и ·к·.',\n",
       "   'Смол.гр.',\n",
       "   '24',\n",
       "   '1229 г.',\n",
       "   None]]}"
      ]
     },
     "execution_count": 42,
     "metadata": {},
     "output_type": "execute_result"
    }
   ],
   "source": [
    "definitions[0]"
   ]
  },
  {
   "attachments": {},
   "cell_type": "markdown",
   "metadata": {},
   "source": [
    "### Значения и примеры"
   ]
  },
  {
   "attachments": {},
   "cell_type": "markdown",
   "metadata": {},
   "source": [
    "#### 1. Сбор информации из таблицы по источникам и добавление в итоговую"
   ]
  },
  {
   "cell_type": "code",
   "execution_count": 11,
   "metadata": {},
   "outputs": [],
   "source": [
    "con = sqlite3.connect(\"Sources.db\")\n",
    "cur = con.cursor()"
   ]
  },
  {
   "cell_type": "code",
   "execution_count": 44,
   "metadata": {},
   "outputs": [],
   "source": [
    "cur.execute('SELECT * FROM sources')\n",
    "sources = cur.fetchall()"
   ]
  },
  {
   "cell_type": "code",
   "execution_count": 15,
   "metadata": {},
   "outputs": [],
   "source": [
    "cur.execute('SELECT * FROM languages')\n",
    "languages = cur.fetchall()"
   ]
  },
  {
   "cell_type": "code",
   "execution_count": 16,
   "metadata": {},
   "outputs": [],
   "source": [
    "cur.execute('SELECT * FROM sources_types')\n",
    "sources_types = cur.fetchall()"
   ]
  },
  {
   "cell_type": "code",
   "execution_count": 17,
   "metadata": {},
   "outputs": [],
   "source": [
    "con = sqlite3.connect(\"Dictionary_Final.db\")\n",
    "cur = con.cursor()"
   ]
  },
  {
   "cell_type": "code",
   "execution_count": 143,
   "metadata": {},
   "outputs": [
    {
     "data": {
      "text/plain": [
       "<sqlite3.Cursor at 0x7fb4091ecea0>"
      ]
     },
     "execution_count": 143,
     "metadata": {},
     "output_type": "execute_result"
    }
   ],
   "source": [
    "#cur.execute('DROP TABLE sources_types')\n",
    "#cur.execute('DROP TABLE languages')\n",
    "#cur.execute('DROP TABLE sources')"
   ]
  },
  {
   "cell_type": "code",
   "execution_count": 19,
   "metadata": {},
   "outputs": [],
   "source": [
    "cur.execute(\"\"\"\n",
    "CREATE TABLE IF NOT EXISTS sources_types (\n",
    "    type_id INTEGER PRIMARY KEY,\n",
    "    type TEXT\n",
    ")\n",
    "\"\"\")\n",
    "cur.executemany('INSERT INTO sources_types VALUES (?, ?)', sources_types)\n",
    "con.commit()"
   ]
  },
  {
   "cell_type": "code",
   "execution_count": 21,
   "metadata": {},
   "outputs": [],
   "source": [
    "cur.execute(\"\"\"\n",
    "CREATE TABLE IF NOT EXISTS sources (\n",
    "    source_id INTEGER PRIMARY KEY,\n",
    "    full TEXT,\n",
    "    abbr_name TEXT,\n",
    "    lang_id INT,\n",
    "    date_start_y INT,\n",
    "    date_start_c INT,\n",
    "    date_end_y INT,\n",
    "    date_end_c INT,\n",
    "    publication_date_y INT,\n",
    "    publication_date_c INT,\n",
    "    type_id INT,\n",
    "    is_translated INT\n",
    ")\n",
    "\"\"\")\n",
    "cur.executemany(\n",
    "    'INSERT INTO sources VALUES (?, ?, ?, ?, ?, ?, ?, ?, ?, ?, ?, ?)', \n",
    "    sources\n",
    ")\n",
    "con.commit()"
   ]
  },
  {
   "attachments": {},
   "cell_type": "markdown",
   "metadata": {},
   "source": [
    "#### 2. Сбор id источников для каждого примера"
   ]
  },
  {
   "attachments": {},
   "cell_type": "markdown",
   "metadata": {},
   "source": [
    "Формат ключа _examples_:\n",
    "1. Пример\n",
    "2. Источник (id)\n",
    "3. Страница источника\n",
    "4. Дата памятника, по которому происходит цитирование\n",
    "5. Период первой засвидетельствованной или предполагаемой версии памятника (если памятник существует во множестве списков разного времени)"
   ]
  },
  {
   "cell_type": "code",
   "execution_count": 56,
   "metadata": {},
   "outputs": [
    {
     "name": "stdout",
     "output_type": "stream",
     "text": [
      "{'word_id': 1, 'edition': 1, 'definition': \"Буква русской азбуки, называемая аз; числовое значение' — 1 (·а҃·), со знаком ҂ 1000.\", 'examples': [['Въ ·а҃·-вую недѣлю.', 'Ж. Феодос. Нест.', '77', 'XII в.', '~ 1088 г.'], ['Коли ся грамота псана ишлъ былъ от рж҃ства гс҃ня до сего лѣта ·҂а҃· лѣт҃ и ·с҃· лѣт҃ и ·и҃· лѣт҃ и ·к·.', 'Смол. гр.', '24', '1229 г.', None]]}\n"
     ]
    }
   ],
   "source": [
    "print(definitions[0])"
   ]
  },
  {
   "cell_type": "code",
   "execution_count": 45,
   "metadata": {},
   "outputs": [
    {
     "name": "stderr",
     "output_type": "stream",
     "text": [
      "100%|██████████| 88630/88630 [00:41<00:00, 2118.20it/s]\n"
     ]
    }
   ],
   "source": [
    "for definition in tqdm(definitions):\n",
    "    for example in definition['examples']:\n",
    "        for source in sources:\n",
    "            try:\n",
    "                ed = example[1].replace(' ', '')\n",
    "                if ed in source[1] or ed in source[2]:\n",
    "                    example[1] = source[0]\n",
    "                    break\n",
    "            except:\n",
    "                if ed in source[1] or ed in source[2]:\n",
    "                    example[1] = source[0]\n",
    "                    break"
   ]
  },
  {
   "cell_type": "code",
   "execution_count": 46,
   "metadata": {},
   "outputs": [
    {
     "name": "stdout",
     "output_type": "stream",
     "text": [
      "{'word_id': 1, 'edition': 1, 'definition': \"Буква русской азбуки, называемая аз; числовое значение' — 1 (·а҃·), со знаком ҂ 1000.\", 'examples': [['Въ ·а҃·-вую недѣлю.', 488, '77', 'XII в.', '~ 1088 г.'], ['Коли ся грамота псана ишлъ былъ от рж҃ства гс҃ня до сего лѣта ·҂а҃· лѣт҃ и ·с҃· лѣт҃ и ·и҃· лѣт҃ и ·к·.', 1218, '24', '1229 г.', None]]}\n"
     ]
    }
   ],
   "source": [
    "print(definitions[0])"
   ]
  },
  {
   "cell_type": "code",
   "execution_count": 47,
   "metadata": {},
   "outputs": [
    {
     "name": "stdout",
     "output_type": "stream",
     "text": [
      "488\n",
      "1218\n"
     ]
    }
   ],
   "source": [
    "for example in definitions[0]['examples']:\n",
    "    print(example[1])"
   ]
  },
  {
   "cell_type": "code",
   "execution_count": 48,
   "metadata": {},
   "outputs": [
    {
     "data": {
      "text/plain": [
       "<sqlite3.Cursor at 0x7fec61a672d0>"
      ]
     },
     "execution_count": 48,
     "metadata": {},
     "output_type": "execute_result"
    }
   ],
   "source": [
    "cur.execute('DROP TABLE quote_to_definition')\n",
    "cur.execute('DROP TABLE definitions')\n",
    "cur.execute('DROP TABLE quotes')"
   ]
  },
  {
   "cell_type": "code",
   "execution_count": 49,
   "metadata": {},
   "outputs": [
    {
     "data": {
      "text/plain": [
       "<sqlite3.Cursor at 0x7fec61a672d0>"
      ]
     },
     "execution_count": 49,
     "metadata": {},
     "output_type": "execute_result"
    }
   ],
   "source": [
    "cur.execute(\"\"\"\n",
    "CREATE TABLE IF NOT EXISTS quote_to_definition (\n",
    "    id INTEGER PRIMARY KEY AUTOINCREMENT,\n",
    "    quote_id INT,\n",
    "    definition_id INT\n",
    ")\n",
    "\"\"\")\n",
    "cur.execute(\"\"\"\n",
    "CREATE TABLE IF NOT EXISTS definitions (\n",
    "    definition_id INTEGER PRIMARY KEY,\n",
    "    entry_id INT, \n",
    "    text_meaning TEXT, \n",
    "    idiom_id INT, \n",
    "    related_entries TEXT\n",
    ")\n",
    "\"\"\")\n",
    "cur.execute(\"\"\"\n",
    "CREATE TABLE IF NOT EXISTS quotes (\n",
    "    quote_id INTEGER PRIMARY KEY,\n",
    "    source_id INT,\n",
    "    quote TEXT, \n",
    "    page INT,\n",
    "    edition INT,\n",
    "    base_dict_id INT,\n",
    "    orig_date_start_y INT,\n",
    "    orig_date_start_c TEXT,\n",
    "    orig_date_end_y INT,\n",
    "    orig_date_end_c TEXT,\n",
    "    date_start_y INT,\n",
    "    date_start_c TEXT,\n",
    "    date_end_y INT,\n",
    "    date_end_c TEXT\n",
    ")\n",
    "\"\"\")"
   ]
  },
  {
   "cell_type": "code",
   "execution_count": 50,
   "metadata": {},
   "outputs": [],
   "source": [
    "# функция, чтобы перевести значение века в числовое\n",
    "mistakes = []\n",
    "def get_century(century):\n",
    "    century = century.replace('\\n\\n\\n\\n', '')\n",
    "    century_to_num = {\n",
    "        'I': 1, 'II': 2, 'III': 3, 'IIІ': 3, 'IV': 4, 'IѴ': 4,\n",
    "        'V': 5, 'VI': 6, 'VII': 7, 'VIII': 8, 'IX': 9, 'X': 10, \n",
    "        'XI': 11, 'XІ': 11, 'ΧI': 11, 'XII': 12, 'XІІ': 12, 'XIІ': 12, \n",
    "        'XIІІ': 13, 'XІІІ': 13, 'XIII': 13, 'XІV': 14, 'XIV': 14,\n",
    "        'XV': 15, 'XVI': 16, 'ΧVΙ': 16, 'XVІ':16, \n",
    "        'XVII': 17, 'XVIІ':17, 'XVІI': 17, 'XVIΙ':17, 'XVІІ':17, \n",
    "        'XVІІІ': 18, 'XVIII':18, 'XVІII': 18, 'XIX': 19, 'XX': 20, 'XIX': 21, '': ''\n",
    "    }\n",
    "    if '—' in century:\n",
    "        centuries = century.split('—')\n",
    "    elif '–' in century:\n",
    "        centuries = century.split('–')\n",
    "    else:\n",
    "        centuries = century.split('-')\n",
    "    new_nums = []\n",
    "    try:\n",
    "        for c in centuries:\n",
    "            new_nums.append(str(century_to_num[c]))\n",
    "    except:\n",
    "        new_nums = centuries\n",
    "        mistakes.append(centuries[0])\n",
    "    return new_nums"
   ]
  },
  {
   "cell_type": "code",
   "execution_count": 51,
   "metadata": {},
   "outputs": [],
   "source": [
    "# функция, чтобы оставить только год, век или промежуток\n",
    "def clean_year(year):\n",
    "    year = year.replace('или', '-')\n",
    "    year = year.replace('и', '-')\n",
    "    wo_letters = re.sub(r'[а-яА-ЯёЁ]', '', year)\n",
    "    clean_year = wo_letters.\\\n",
    "                replace('~', '').\\\n",
    "                replace(' ', '').\\\n",
    "                strip(',()').\\\n",
    "                replace('.', '').\\\n",
    "                replace('?', '').\\\n",
    "                replace('(', '').\\\n",
    "                replace('——', '-')\n",
    "    return clean_year"
   ]
  },
  {
   "cell_type": "code",
   "execution_count": 52,
   "metadata": {},
   "outputs": [],
   "source": [
    "problems = []  # список дат, которые не удалось перевести в нужный формат\n",
    "# функция, которая переводит даты (век) в числовой, разбирает промежутки на дату начала и конца\n",
    "def get_dates(date):\n",
    "    date_start_y, date_start_c, date_end_y, date_end_c = None, None, None, None\n",
    "    # проверка, если дата - это век\n",
    "    if ('в' in date) or ('X' in date):\n",
    "        century = get_century(clean_year(date))  # очистка и получение числового значения\n",
    "        if len(century) == 1:  # если значение одно, то начало и конец одинаковые\n",
    "            date_start_c = century[0]\n",
    "            date_end_c = century[0]\n",
    "        else:\n",
    "            date_start_c = century[0]\n",
    "            date_end_c = century[1]\n",
    "    else: \n",
    "        year = clean_year(date)\n",
    "        year = year.replace('-', '—')  # всего встречается три разных тире\n",
    "        year = year.replace('–', '—')  # я их заменяю на обычный, чтобы было проще\n",
    "        try:\n",
    "            if '—' in year:  # если есть тире -> перед нами промежуток\n",
    "                nums = year.split('—')\n",
    "                date_start_y, date_end_y = nums[0], nums[1]\n",
    "                date_start_c = int(date_start_y[:-2]) + 1\n",
    "                if len(date_end_y) > 2:\n",
    "                    date_end_c = int(date_end_y[:-2]) + 1\n",
    "                # если второе число имеет 2 символа, скорее всего это промежуток вида 1467-90\n",
    "                # поэтому век такой же, как у начала\n",
    "                else:  \n",
    "                    date_end_c = date_start_c\n",
    "            else:\n",
    "                date_start_y = date_end_y = year\n",
    "                if len(year) > 2:\n",
    "                    date_start_c = date_end_c = int(year[:-2]) + 1\n",
    "                else:\n",
    "                    date_start_c = date_end_c = 1\n",
    "        except:\n",
    "            problems.append(example)\n",
    "    return date_start_y, date_start_c, date_end_y, date_end_c"
   ]
  },
  {
   "cell_type": "code",
   "execution_count": 53,
   "metadata": {},
   "outputs": [],
   "source": [
    "j = 1  \n",
    "quotes = {}  # список цитат, чтобы не было повторений\n",
    "for i, definition in enumerate(definitions):\n",
    "    cur.execute(\n",
    "        'INSERT INTO definitions VALUES (?, ?, ?, ?, ?)',\n",
    "        (i, definition['word_id'], definition['definition'], None, None)\n",
    "    )\n",
    "    for example in definition['examples']:\n",
    "        orig_date_start_y, orig_date_start_c, orig_date_end_y, orig_date_end_c = None, None, None, None\n",
    "        date_start_y, date_start_c, date_end_y, date_end_c = None, None, None, None\n",
    "        if example[3]:\n",
    "            date_start_y, date_start_c, date_end_y, date_end_c = get_dates(example[3])\n",
    "\n",
    "        if example[4]:\n",
    "            orig_date_start_y, orig_date_start_c, orig_date_end_y, orig_date_end_c = get_dates(example[4])\n",
    "        \n",
    "        if example[0] not in quotes:  # проверка, чтобы пример ещё не был в таблице\n",
    "            quotes[example[0]] = j\n",
    "            cur.execute(\n",
    "                'INSERT INTO quotes VALUES (?, ?, ?, ?, ?, ?, ?, ?, ?, ?, ?, ?, ?, ?)',\n",
    "                (j, example[1], example[0], example[2], definition['edition'],\n",
    "                None, orig_date_start_y, orig_date_start_c, orig_date_end_y, orig_date_end_c,\n",
    "                date_start_y, date_start_c, date_end_y, date_end_c)\n",
    "            )\n",
    "            j += 1\n",
    "\n",
    "        cur.execute(\n",
    "                'INSERT INTO quote_to_definition (quote_id, definition_id) VALUES (?, ?)',\n",
    "                (quotes[example[0]], i)\n",
    "            )\n",
    "    con.commit()"
   ]
  },
  {
   "attachments": {},
   "cell_type": "markdown",
   "metadata": {},
   "source": [
    "### Этимология и глоссы"
   ]
  },
  {
   "attachments": {},
   "cell_type": "markdown",
   "metadata": {},
   "source": [
    "#### 1. Загрузка таблиц с глоссами и этимологиями\n",
    "\n",
    "Также добавление языков в отдельную таблицу."
   ]
  },
  {
   "cell_type": "code",
   "execution_count": 54,
   "metadata": {},
   "outputs": [],
   "source": [
    "etym = pd.read_csv('etymology.csv', index_col=0)\n",
    "gloss = pd.read_csv('glosses.csv', index_col=0)"
   ]
  },
  {
   "cell_type": "code",
   "execution_count": 55,
   "metadata": {},
   "outputs": [],
   "source": [
    "# сбор id слов\n",
    "def get_ids(lemma):\n",
    "    if lemma.lower() in word_ids.keys():\n",
    "        return word_ids[lemma.lower()]\n",
    "    elif f\"{lemma.lower()}_1\" in word_ids.keys():\n",
    "        return word_ids[f\"{lemma.lower()}_1\"]\n",
    "    return lemma\n",
    "gloss['word_id'] = gloss['lemma'].apply(get_ids)\n",
    "etym['word_id'] = etym['lemma'].apply(get_ids)"
   ]
  },
  {
   "cell_type": "code",
   "execution_count": 56,
   "metadata": {},
   "outputs": [],
   "source": [
    "etym['lang'] = etym['lang'].replace({\"ukr' rend=\": 'ukr'})\n",
    "gloss['lang'] = gloss['lang'].replace({\"ukr' rend=\": 'ukr'})"
   ]
  },
  {
   "cell_type": "code",
   "execution_count": 57,
   "metadata": {},
   "outputs": [],
   "source": [
    "langs = set(gloss['lang']) | set(etym['lang'])"
   ]
  },
  {
   "cell_type": "code",
   "execution_count": 58,
   "metadata": {},
   "outputs": [],
   "source": [
    "languages = {'grk': 0, 'lat': 1, 'deu': 2, 'ces': 3}\n",
    "i = 4\n",
    "for l in langs:\n",
    "    if l not in languages and isinstance(l, str):\n",
    "        languages[l] = i\n",
    "        i += 1"
   ]
  },
  {
   "cell_type": "code",
   "execution_count": 59,
   "metadata": {},
   "outputs": [
    {
     "data": {
      "text/plain": [
       "{'grk': 0,\n",
       " 'lat': 1,\n",
       " 'deu': 2,\n",
       " 'ces': 3,\n",
       " 'gmh': 4,\n",
       " 'hun': 5,\n",
       " 'ang': 6,\n",
       " 'kaz': 7,\n",
       " 'lat-mid': 8,\n",
       " 'ara': 9,\n",
       " 'swe': 10,\n",
       " 'nld': 11,\n",
       " 'bul': 12,\n",
       " 'pol-reg': 13,\n",
       " 'san': 14,\n",
       " 'gml': 15,\n",
       " 'dan': 16,\n",
       " 'ell': 17,\n",
       " 'nor': 18,\n",
       " 'sla': 19,\n",
       " 'tur': 20,\n",
       " 'lat/deu': 21,\n",
       " 'fra': 22,\n",
       " 'got': 23,\n",
       " 'crh': 24,\n",
       " 'grc': 25,\n",
       " 'pol-old': 26,\n",
       " 'uzb': 27,\n",
       " 'fin': 28,\n",
       " 'rus-new/ukr': 29,\n",
       " 'bel-old': 30,\n",
       " 'slv': 31,\n",
       " 'qwm': 32,\n",
       " 'syd': 33,\n",
       " 'lit': 34,\n",
       " 'dsb': 35,\n",
       " 'ita': 36,\n",
       " 'pol': 37,\n",
       " 'hbs': 38,\n",
       " 'gmh/pol': 39,\n",
       " 'srp': 40,\n",
       " 'trk': 41,\n",
       " 'krl': 42,\n",
       " 'grc/lat': 43,\n",
       " 'goh': 44,\n",
       " 'grc/mixed': 45,\n",
       " 'chg': 46,\n",
       " 'bul-mid': 47,\n",
       " 'eng': 48,\n",
       " 'rus/ukr': 49,\n",
       " 'arc': 50,\n",
       " 'chu': 51,\n",
       " 'fro': 52,\n",
       " 'tat': 53,\n",
       " 'mon': 54,\n",
       " 'chv': 55,\n",
       " 'rus': 56,\n",
       " 'nld/deu': 57,\n",
       " 'fas': 58,\n",
       " 'nds': 59,\n",
       " 'mdf': 60,\n",
       " 'ukr': 61,\n",
       " 'aze': 62,\n",
       " 'bel': 63,\n",
       " 'odt': 64,\n",
       " 'far': 65,\n",
       " 'hbo': 66,\n",
       " 'oss': 67,\n",
       " 'grc/hbo': 68,\n",
       " 'vep': 69}"
      ]
     },
     "execution_count": 59,
     "metadata": {},
     "output_type": "execute_result"
    }
   ],
   "source": [
    "languages"
   ]
  },
  {
   "cell_type": "code",
   "execution_count": null,
   "metadata": {},
   "outputs": [],
   "source": [
    "cur.execute(\"\"\"\n",
    "CREATE TABLE IF NOT EXISTS languages (\n",
    "    lang_id INTEGER PRIMARY KEY,\n",
    "    language TEXT\n",
    ")\n",
    "\"\"\")\n",
    "cur.executemany('INSERT INTO languages VALUES (?, ?)', list(languages.items()))\n",
    "con.commit()"
   ]
  },
  {
   "cell_type": "code",
   "execution_count": 60,
   "metadata": {},
   "outputs": [],
   "source": [
    "languages_reverse = {i: w for w, i in languages.items()}"
   ]
  },
  {
   "cell_type": "code",
   "execution_count": 61,
   "metadata": {},
   "outputs": [],
   "source": [
    "etym['lang'] = etym['lang'].map(languages)\n",
    "gloss['lang'] = gloss['lang'].map(languages)"
   ]
  },
  {
   "cell_type": "code",
   "execution_count": 62,
   "metadata": {},
   "outputs": [
    {
     "data": {
      "text/html": [
       "<div>\n",
       "<style scoped>\n",
       "    .dataframe tbody tr th:only-of-type {\n",
       "        vertical-align: middle;\n",
       "    }\n",
       "\n",
       "    .dataframe tbody tr th {\n",
       "        vertical-align: top;\n",
       "    }\n",
       "\n",
       "    .dataframe thead th {\n",
       "        text-align: right;\n",
       "    }\n",
       "</style>\n",
       "<table border=\"1\" class=\"dataframe\">\n",
       "  <thead>\n",
       "    <tr style=\"text-align: right;\">\n",
       "      <th></th>\n",
       "      <th>edition</th>\n",
       "      <th>lemma</th>\n",
       "      <th>etym_lemma</th>\n",
       "      <th>lang</th>\n",
       "      <th>word_id</th>\n",
       "    </tr>\n",
       "  </thead>\n",
       "  <tbody>\n",
       "    <tr>\n",
       "      <th>0</th>\n",
       "      <td>1</td>\n",
       "      <td>аистъ</td>\n",
       "      <td>bocianow</td>\n",
       "      <td>37.0</td>\n",
       "      <td>91</td>\n",
       "    </tr>\n",
       "    <tr>\n",
       "      <th>1</th>\n",
       "      <td>1</td>\n",
       "      <td>алкионитский</td>\n",
       "      <td>ἀλκυονίδας τὰς ἡμέρας</td>\n",
       "      <td>25.0</td>\n",
       "      <td>алкионитский</td>\n",
       "    </tr>\n",
       "    <tr>\n",
       "      <th>2</th>\n",
       "      <td>1</td>\n",
       "      <td>ангеловецъ</td>\n",
       "      <td>περὶ ἀγγελίτων</td>\n",
       "      <td>25.0</td>\n",
       "      <td>306</td>\n",
       "    </tr>\n",
       "    <tr>\n",
       "      <th>3</th>\n",
       "      <td>1</td>\n",
       "      <td>анкира</td>\n",
       "      <td>ἄγκυρα</td>\n",
       "      <td>25.0</td>\n",
       "      <td>328</td>\n",
       "    </tr>\n",
       "    <tr>\n",
       "      <th>4</th>\n",
       "      <td>1</td>\n",
       "      <td>апоновь</td>\n",
       "      <td>ἐπὶ ἐσχάρας</td>\n",
       "      <td>25.0</td>\n",
       "      <td>365</td>\n",
       "    </tr>\n",
       "    <tr>\n",
       "      <th>...</th>\n",
       "      <td>...</td>\n",
       "      <td>...</td>\n",
       "      <td>...</td>\n",
       "      <td>...</td>\n",
       "      <td>...</td>\n",
       "    </tr>\n",
       "    <tr>\n",
       "      <th>33601</th>\n",
       "      <td>9</td>\n",
       "      <td>мятежелюбство</td>\n",
       "      <td>νεωτεροποιΐαν</td>\n",
       "      <td>25.0</td>\n",
       "      <td>35114</td>\n",
       "    </tr>\n",
       "    <tr>\n",
       "      <th>33602</th>\n",
       "      <td>9</td>\n",
       "      <td>мятежетворецъ</td>\n",
       "      <td>στασιασταί</td>\n",
       "      <td>25.0</td>\n",
       "      <td>35116</td>\n",
       "    </tr>\n",
       "    <tr>\n",
       "      <th>33603</th>\n",
       "      <td>9</td>\n",
       "      <td>мятение</td>\n",
       "      <td>ταραχή</td>\n",
       "      <td>25.0</td>\n",
       "      <td>35131</td>\n",
       "    </tr>\n",
       "    <tr>\n",
       "      <th>33604</th>\n",
       "      <td>9</td>\n",
       "      <td>мятение</td>\n",
       "      <td>καθ’ ὕπαρ φαντάσματα</td>\n",
       "      <td>25.0</td>\n",
       "      <td>35131</td>\n",
       "    </tr>\n",
       "    <tr>\n",
       "      <th>33605</th>\n",
       "      <td>9</td>\n",
       "      <td>мячитися</td>\n",
       "      <td>μαλάσσεται</td>\n",
       "      <td>25.0</td>\n",
       "      <td>35155</td>\n",
       "    </tr>\n",
       "  </tbody>\n",
       "</table>\n",
       "<p>33606 rows × 5 columns</p>\n",
       "</div>"
      ],
      "text/plain": [
       "       edition          lemma             etym_lemma  lang       word_id\n",
       "0            1          аистъ               bocianow  37.0            91\n",
       "1            1   алкионитский  ἀλκυονίδας τὰς ἡμέρας  25.0  алкионитский\n",
       "2            1     ангеловецъ         περὶ ἀγγελίτων  25.0           306\n",
       "3            1         анкира                 ἄγκυρα  25.0           328\n",
       "4            1        апоновь            ἐπὶ ἐσχάρας  25.0           365\n",
       "...        ...            ...                    ...   ...           ...\n",
       "33601        9  мятежелюбство          νεωτεροποιΐαν  25.0         35114\n",
       "33602        9  мятежетворецъ             στασιασταί  25.0         35116\n",
       "33603        9        мятение                 ταραχή  25.0         35131\n",
       "33604        9        мятение   καθ’ ὕπαρ φαντάσματα  25.0         35131\n",
       "33605        9       мячитися             μαλάσσεται  25.0         35155\n",
       "\n",
       "[33606 rows x 5 columns]"
      ]
     },
     "execution_count": 62,
     "metadata": {},
     "output_type": "execute_result"
    }
   ],
   "source": [
    "gloss"
   ]
  },
  {
   "cell_type": "code",
   "execution_count": 63,
   "metadata": {},
   "outputs": [],
   "source": [
    "etym_values = etym[['word_id', 'etym_lemma', 'lang']].values\n",
    "gloss_values = gloss[['word_id', 'etym_lemma', 'lang']].values"
   ]
  },
  {
   "cell_type": "code",
   "execution_count": 64,
   "metadata": {},
   "outputs": [
    {
     "data": {
      "text/plain": [
       "<sqlite3.Cursor at 0x7fec61a672d0>"
      ]
     },
     "execution_count": 64,
     "metadata": {},
     "output_type": "execute_result"
    }
   ],
   "source": [
    "cur.execute('DROP TABLE etymology')\n",
    "cur.execute('DROP TABLE glosses')"
   ]
  },
  {
   "cell_type": "code",
   "execution_count": 65,
   "metadata": {},
   "outputs": [
    {
     "data": {
      "text/plain": [
       "<sqlite3.Cursor at 0x7fec61a672d0>"
      ]
     },
     "execution_count": 65,
     "metadata": {},
     "output_type": "execute_result"
    }
   ],
   "source": [
    "cur.execute(\"\"\"\n",
    "CREATE TABLE IF NOT EXISTS etymology (\n",
    "    etym_id INTEGER PRIMARY KEY, \n",
    "    word_id INT,\n",
    "    etym_lemma TEXT,\n",
    "    language TEXT\n",
    ")\n",
    "\"\"\")\n",
    "cur.execute(\"\"\"\n",
    "CREATE TABLE IF NOT EXISTS glosses (\n",
    "    gloss_id INTEGER PRIMARY KEY, \n",
    "    word_id INT,\n",
    "    gloss_lemma TEXT,\n",
    "    language TEXT\n",
    ")\n",
    "\"\"\")"
   ]
  },
  {
   "cell_type": "code",
   "execution_count": 66,
   "metadata": {},
   "outputs": [],
   "source": [
    "for i, values in enumerate(etym_values):\n",
    "    cur.execute(\n",
    "        'INSERT INTO etymology VALUES (?,?,?,?)',\n",
    "        (i, values[0], values[1], values[2]))\n",
    "    con.commit()\n",
    "\n",
    "for i, values in enumerate(gloss_values):\n",
    "    cur.execute(\n",
    "        'INSERT INTO glosses VALUES (?,?,?,?)',\n",
    "        (i, values[0], values[1].strip('()'), values[2]))\n",
    "    con.commit()"
   ]
  },
  {
   "attachments": {},
   "cell_type": "markdown",
   "metadata": {},
   "source": [
    "#### Код ниже - код, по которому собирались таблицы с этимологиями и глоссами (чтение тегов tei)"
   ]
  },
  {
   "cell_type": "code",
   "execution_count": 159,
   "metadata": {},
   "outputs": [],
   "source": [
    "etym = pd.read_csv('etym.tsv', sep='\\t', index_col=0)"
   ]
  },
  {
   "cell_type": "code",
   "execution_count": 160,
   "metadata": {},
   "outputs": [
    {
     "data": {
      "text/html": [
       "<div>\n",
       "<style scoped>\n",
       "    .dataframe tbody tr th:only-of-type {\n",
       "        vertical-align: middle;\n",
       "    }\n",
       "\n",
       "    .dataframe tbody tr th {\n",
       "        vertical-align: top;\n",
       "    }\n",
       "\n",
       "    .dataframe thead th {\n",
       "        text-align: right;\n",
       "    }\n",
       "</style>\n",
       "<table border=\"1\" class=\"dataframe\">\n",
       "  <thead>\n",
       "    <tr style=\"text-align: right;\">\n",
       "      <th></th>\n",
       "      <th>выпуск</th>\n",
       "      <th>лемма</th>\n",
       "      <th>старый тег</th>\n",
       "      <th>новый тег</th>\n",
       "    </tr>\n",
       "    <tr>\n",
       "      <th>1</th>\n",
       "      <th></th>\n",
       "      <th></th>\n",
       "      <th></th>\n",
       "      <th></th>\n",
       "    </tr>\n",
       "  </thead>\n",
       "  <tbody>\n",
       "    <tr>\n",
       "      <th>2</th>\n",
       "      <td>1</td>\n",
       "      <td>актазъ</td>\n",
       "      <td>&lt;etym lang=\"tur\"&gt;Ср. тюрк. &lt;ref type=\"lemma\" r...</td>\n",
       "      <td>&lt;etym lang=\"trk/fas\"&gt;&lt;lbl type=\"cf\"&gt;Ср.&lt;/lbl&gt; ...</td>\n",
       "    </tr>\n",
       "    <tr>\n",
       "      <th>3</th>\n",
       "      <td>1</td>\n",
       "      <td>анкира</td>\n",
       "      <td>&lt;etym lang=\"grc\"&gt;(&lt;lbl type=\"cf\"&gt;ср.&lt;/lbl&gt; гре...</td>\n",
       "      <td>&lt;etym lang=\"grc\"&gt;(&lt;lbl type=\"cf\"&gt;ср.&lt;/lbl&gt; &lt;la...</td>\n",
       "    </tr>\n",
       "    <tr>\n",
       "      <th>4</th>\n",
       "      <td>1</td>\n",
       "      <td>аргументовати</td>\n",
       "      <td>&lt;etym lang=\"pl\"&gt;(&lt;lbl type=\"cf\"&gt;Ср.&lt;/lbl&gt; поль...</td>\n",
       "      <td>&lt;etym lang=\"pol\"&gt;(&lt;lbl type=\"cf\"&gt;Ср.&lt;/lbl&gt; &lt;la...</td>\n",
       "    </tr>\n",
       "    <tr>\n",
       "      <th>5</th>\n",
       "      <td>1</td>\n",
       "      <td>ариевъ</td>\n",
       "      <td>&lt;etym lang=\"grc\"&gt;(От&lt;lb/&gt;неточного перевода гр...</td>\n",
       "      <td>&lt;etym lang=\"grc\"&gt;(&lt;lbl type=\"mistranslation\"&gt;О...</td>\n",
       "    </tr>\n",
       "    <tr>\n",
       "      <th>6</th>\n",
       "      <td>1</td>\n",
       "      <td>армата</td>\n",
       "      <td>&lt;etym lang=\"pl\"&gt;(&lt;lbl type=\"cf\"&gt;Ср.&lt;/lbl&gt; поль...</td>\n",
       "      <td>&lt;etym lang=\"pol\"&gt;(&lt;lbl type=\"cf\"&gt;Ср.&lt;/lbl&gt; &lt;la...</td>\n",
       "    </tr>\n",
       "    <tr>\n",
       "      <th>...</th>\n",
       "      <td>...</td>\n",
       "      <td>...</td>\n",
       "      <td>...</td>\n",
       "      <td>...</td>\n",
       "    </tr>\n",
       "    <tr>\n",
       "      <th>1316</th>\n",
       "      <td>27</td>\n",
       "      <td>станъ</td>\n",
       "      <td>&lt;etym lang=\"grc\"&gt;греч. &lt;ref type=\"lemma\" lang=...</td>\n",
       "      <td>&lt;etym lang=\"grc\"&gt;&lt;lang&gt;греч.&lt;/lang&gt; &lt;ref type=...</td>\n",
       "    </tr>\n",
       "    <tr>\n",
       "      <th>1317</th>\n",
       "      <td>27</td>\n",
       "      <td>стандартъ</td>\n",
       "      <td>&lt;etym lang=\"ger\"&gt;(&lt;lbl type=\"cf\"&gt;ср.&lt;/lbl&gt;&lt;lb/...</td>\n",
       "      <td>&lt;etym lang=\"deu\"&gt;(&lt;lbl type=\"cf\"&gt;ср.&lt;/lbl&gt;&lt;lb/...</td>\n",
       "    </tr>\n",
       "    <tr>\n",
       "      <th>1318</th>\n",
       "      <td>27</td>\n",
       "      <td>становиско</td>\n",
       "      <td>&lt;etym lang=\"cz/pl\"&gt;(&lt;lbl type=\"cf\"&gt;ср.&lt;/lbl&gt; п...</td>\n",
       "      <td>&lt;etym lang=\"pol\"&gt;(&lt;lbl type=\"cf\"&gt;ср.&lt;/lbl&gt; &lt;la...</td>\n",
       "    </tr>\n",
       "    <tr>\n",
       "      <th>1319</th>\n",
       "      <td>27</td>\n",
       "      <td>становитцы</td>\n",
       "      <td>&lt;etym lang=\"grc\"&gt;(передача имени &lt;ref type=\"le...</td>\n",
       "      <td>&lt;etym lang=\"grc\"&gt;(&lt;lbl type=\"translation\"&gt;пере...</td>\n",
       "    </tr>\n",
       "    <tr>\n",
       "      <th>1320</th>\n",
       "      <td>27</td>\n",
       "      <td>стапида</td>\n",
       "      <td>&lt;etym lang=\"grc-new\" class=\"ex\"&gt;(&lt;lbl type=\"cf...</td>\n",
       "      <td>&lt;etym lang=\"ell\" class=\"ex\"&gt;(&lt;lbl type=\"cf\"&gt;ср...</td>\n",
       "    </tr>\n",
       "  </tbody>\n",
       "</table>\n",
       "<p>1831 rows × 4 columns</p>\n",
       "</div>"
      ],
      "text/plain": [
       "      выпуск          лемма  \\\n",
       "1                             \n",
       "2          1         актазъ   \n",
       "3          1         анкира   \n",
       "4          1  аргументовати   \n",
       "5          1         ариевъ   \n",
       "6          1         армата   \n",
       "...      ...            ...   \n",
       "1316      27          станъ   \n",
       "1317      27      стандартъ   \n",
       "1318      27     становиско   \n",
       "1319      27     становитцы   \n",
       "1320      27        стапида   \n",
       "\n",
       "                                             старый тег  \\\n",
       "1                                                         \n",
       "2     <etym lang=\"tur\">Ср. тюрк. <ref type=\"lemma\" r...   \n",
       "3     <etym lang=\"grc\">(<lbl type=\"cf\">ср.</lbl> гре...   \n",
       "4     <etym lang=\"pl\">(<lbl type=\"cf\">Ср.</lbl> поль...   \n",
       "5     <etym lang=\"grc\">(От<lb/>неточного перевода гр...   \n",
       "6     <etym lang=\"pl\">(<lbl type=\"cf\">Ср.</lbl> поль...   \n",
       "...                                                 ...   \n",
       "1316  <etym lang=\"grc\">греч. <ref type=\"lemma\" lang=...   \n",
       "1317  <etym lang=\"ger\">(<lbl type=\"cf\">ср.</lbl><lb/...   \n",
       "1318  <etym lang=\"cz/pl\">(<lbl type=\"cf\">ср.</lbl> п...   \n",
       "1319  <etym lang=\"grc\">(передача имени <ref type=\"le...   \n",
       "1320  <etym lang=\"grc-new\" class=\"ex\">(<lbl type=\"cf...   \n",
       "\n",
       "                                              новый тег  \n",
       "1                                                        \n",
       "2     <etym lang=\"trk/fas\"><lbl type=\"cf\">Ср.</lbl> ...  \n",
       "3     <etym lang=\"grc\">(<lbl type=\"cf\">ср.</lbl> <la...  \n",
       "4     <etym lang=\"pol\">(<lbl type=\"cf\">Ср.</lbl> <la...  \n",
       "5     <etym lang=\"grc\">(<lbl type=\"mistranslation\">О...  \n",
       "6     <etym lang=\"pol\">(<lbl type=\"cf\">Ср.</lbl> <la...  \n",
       "...                                                 ...  \n",
       "1316  <etym lang=\"grc\"><lang>греч.</lang> <ref type=...  \n",
       "1317  <etym lang=\"deu\">(<lbl type=\"cf\">ср.</lbl><lb/...  \n",
       "1318  <etym lang=\"pol\">(<lbl type=\"cf\">ср.</lbl> <la...  \n",
       "1319  <etym lang=\"grc\">(<lbl type=\"translation\">пере...  \n",
       "1320  <etym lang=\"ell\" class=\"ex\">(<lbl type=\"cf\">ср...  \n",
       "\n",
       "[1831 rows x 4 columns]"
      ]
     },
     "execution_count": 160,
     "metadata": {},
     "output_type": "execute_result"
    }
   ],
   "source": [
    "etym"
   ]
  },
  {
   "cell_type": "code",
   "execution_count": 167,
   "metadata": {},
   "outputs": [],
   "source": [
    "def cool_lemma(lemma):\n",
    "    if lemma.endswith(('0', '1', '2', '3', '4', '5', '6', '7', '8', '9')):\n",
    "        return f'{lemma[:-1]}_{lemma[-1]}'\n",
    "    return lemma\n"
   ]
  },
  {
   "cell_type": "code",
   "execution_count": 170,
   "metadata": {},
   "outputs": [
    {
     "name": "stdout",
     "output_type": "stream",
     "text": [
      "<etym>(<lbl type=\"meaning\">от</lbl> <ref class=\"def\" type=\"lemma\">санъ</ref><note>?</note>)</etym>\n",
      "<etym>(<lbl type=\"cf\">ср.</lbl> <ref type=\"lemma\">синаксарь</ref>)</etym>\n"
     ]
    }
   ],
   "source": [
    "new_etym = pd.DataFrame(columns=['edition', 'lemma', 'etym_lemma', 'lang'])\n",
    "for i, row in etym.iterrows():\n",
    "    soup = BeautifulSoup(row['новый тег'])\n",
    "    lemmas = soup.find_all('ref')\n",
    "    ru_lemma = cool_lemma(row['лемма'])\n",
    "    for lemma in lemmas:\n",
    "        try:\n",
    "            lemma_lang = lemma.attrs['lang']\n",
    "            word = lemma.text.strip('().,:\"\"«»')\n",
    "            new_etym = new_etym.append({'edition': row['выпуск'], 'lemma': ru_lemma, 'etym_lemma': word, 'lang': lemma_lang}, ignore_index=True)\n",
    "        except:\n",
    "            try:\n",
    "                lemma_lang = soup.find('etym').attrs['lang']\n",
    "                word = lemma.text.strip('().,:\"\"«»')\n",
    "                new_etym = new_etym.append({'edition': row['выпуск'], 'lemma': ru_lemma, 'etym_lemma': word, 'lang': lemma_lang}, ignore_index=True)\n",
    "            except:\n",
    "                print(soup)"
   ]
  },
  {
   "cell_type": "code",
   "execution_count": 175,
   "metadata": {},
   "outputs": [
    {
     "data": {
      "text/html": [
       "<div>\n",
       "<style scoped>\n",
       "    .dataframe tbody tr th:only-of-type {\n",
       "        vertical-align: middle;\n",
       "    }\n",
       "\n",
       "    .dataframe tbody tr th {\n",
       "        vertical-align: top;\n",
       "    }\n",
       "\n",
       "    .dataframe thead th {\n",
       "        text-align: right;\n",
       "    }\n",
       "</style>\n",
       "<table border=\"1\" class=\"dataframe\">\n",
       "  <thead>\n",
       "    <tr style=\"text-align: right;\">\n",
       "      <th></th>\n",
       "      <th>edition</th>\n",
       "      <th>lemma</th>\n",
       "      <th>etym_lemma</th>\n",
       "      <th>lang</th>\n",
       "    </tr>\n",
       "  </thead>\n",
       "  <tbody>\n",
       "    <tr>\n",
       "      <th>25</th>\n",
       "      <td>3</td>\n",
       "      <td>вополчатися</td>\n",
       "      <td>παρατάττεται</td>\n",
       "      <td>grc</td>\n",
       "    </tr>\n",
       "    <tr>\n",
       "      <th>26</th>\n",
       "      <td>3</td>\n",
       "      <td>вополчатися</td>\n",
       "      <td>exponitur</td>\n",
       "      <td>lat</td>\n",
       "    </tr>\n",
       "    <tr>\n",
       "      <th>27</th>\n",
       "      <td>3</td>\n",
       "      <td>выдухати</td>\n",
       "      <td>έμφυςῶῡ</td>\n",
       "      <td>grc</td>\n",
       "    </tr>\n",
       "    <tr>\n",
       "      <th>28</th>\n",
       "      <td>3</td>\n",
       "      <td>выдухати</td>\n",
       "      <td>insufflans</td>\n",
       "      <td>lat</td>\n",
       "    </tr>\n",
       "    <tr>\n",
       "      <th>29</th>\n",
       "      <td>3</td>\n",
       "      <td>выправити</td>\n",
       "      <td>wyprawiс́</td>\n",
       "      <td>pol</td>\n",
       "    </tr>\n",
       "    <tr>\n",
       "      <th>30</th>\n",
       "      <td>3</td>\n",
       "      <td>выходъ</td>\n",
       "      <td>харадж</td>\n",
       "      <td>ara</td>\n",
       "    </tr>\n",
       "    <tr>\n",
       "      <th>31</th>\n",
       "      <td>3</td>\n",
       "      <td>выходъ</td>\n",
       "      <td>хараджа</td>\n",
       "      <td>ara</td>\n",
       "    </tr>\n",
       "    <tr>\n",
       "      <th>32</th>\n",
       "      <td>4</td>\n",
       "      <td>гажий</td>\n",
       "      <td>gad</td>\n",
       "      <td>pol</td>\n",
       "    </tr>\n",
       "    <tr>\n",
       "      <th>33</th>\n",
       "      <td>4</td>\n",
       "      <td>гапелька</td>\n",
       "      <td>гаплик</td>\n",
       "      <td>ukr</td>\n",
       "    </tr>\n",
       "    <tr>\n",
       "      <th>34</th>\n",
       "      <td>4</td>\n",
       "      <td>гафуница</td>\n",
       "      <td>haufnicĕ</td>\n",
       "      <td>ces</td>\n",
       "    </tr>\n",
       "  </tbody>\n",
       "</table>\n",
       "</div>"
      ],
      "text/plain": [
       "   edition        lemma    etym_lemma lang\n",
       "25       3  вополчатися  παρατάττεται  grc\n",
       "26       3  вополчатися     exponitur  lat\n",
       "27       3     выдухати       έμφυςῶῡ  grc\n",
       "28       3     выдухати    insufflans  lat\n",
       "29       3    выправити     wyprawiс́  pol\n",
       "30       3       выходъ        харадж  ara\n",
       "31       3       выходъ       хараджа  ara\n",
       "32       4        гажий           gad  pol\n",
       "33       4     гапелька        гаплик  ukr\n",
       "34       4     гафуница      haufnicĕ  ces"
      ]
     },
     "execution_count": 175,
     "metadata": {},
     "output_type": "execute_result"
    }
   ],
   "source": [
    "new_etym[25:35]"
   ]
  },
  {
   "cell_type": "code",
   "execution_count": 176,
   "metadata": {},
   "outputs": [],
   "source": [
    "new_etym.to_csv('etymology.csv')"
   ]
  },
  {
   "cell_type": "code",
   "execution_count": 177,
   "metadata": {},
   "outputs": [],
   "source": [
    "gloss = pd.read_csv('gloss.tsv', sep='\\t', index_col=0)"
   ]
  },
  {
   "cell_type": "code",
   "execution_count": 99,
   "metadata": {},
   "outputs": [
    {
     "data": {
      "text/plain": [
       "True"
      ]
     },
     "execution_count": 99,
     "metadata": {},
     "output_type": "execute_result"
    }
   ],
   "source": [
    "'vffvf1'.endswith(('1', '2', '3'))"
   ]
  },
  {
   "cell_type": "code",
   "execution_count": 178,
   "metadata": {},
   "outputs": [],
   "source": [
    "new_gloss = pd.DataFrame(columns=['edition', 'lemma', 'etym_lemma', 'lang'])\n",
    "for i, row in gloss.iterrows():\n",
    "    soup = BeautifulSoup(row['новый тег'])\n",
    "    ru_lemma = cool_lemma(row['лемма'])\n",
    "    try:\n",
    "        lang = soup.find('gloss').attrs['lang']\n",
    "    except:\n",
    "        lang = None\n",
    "    try:\n",
    "        lemma = soup.find('ref').text.strip('().,:\"\"«»')\n",
    "    except:\n",
    "        try:\n",
    "            lemma = soup.find('gloss').text.strip('().,:\"\"«»')\n",
    "        except:\n",
    "            pass\n",
    "    new_gloss = new_gloss.append({'edition': row['выпуск'], 'lemma': ru_lemma, 'etym_lemma': lemma, 'lang': lang}, ignore_index=True)"
   ]
  },
  {
   "cell_type": "code",
   "execution_count": 179,
   "metadata": {},
   "outputs": [
    {
     "data": {
      "text/html": [
       "<div>\n",
       "<style scoped>\n",
       "    .dataframe tbody tr th:only-of-type {\n",
       "        vertical-align: middle;\n",
       "    }\n",
       "\n",
       "    .dataframe tbody tr th {\n",
       "        vertical-align: top;\n",
       "    }\n",
       "\n",
       "    .dataframe thead th {\n",
       "        text-align: right;\n",
       "    }\n",
       "</style>\n",
       "<table border=\"1\" class=\"dataframe\">\n",
       "  <thead>\n",
       "    <tr style=\"text-align: right;\">\n",
       "      <th></th>\n",
       "      <th>edition</th>\n",
       "      <th>lemma</th>\n",
       "      <th>etym_lemma</th>\n",
       "      <th>lang</th>\n",
       "    </tr>\n",
       "  </thead>\n",
       "  <tbody>\n",
       "    <tr>\n",
       "      <th>0</th>\n",
       "      <td>1</td>\n",
       "      <td>аистъ</td>\n",
       "      <td>bocianow</td>\n",
       "      <td>pol</td>\n",
       "    </tr>\n",
       "    <tr>\n",
       "      <th>1</th>\n",
       "      <td>1</td>\n",
       "      <td>алкионитский</td>\n",
       "      <td>ἀλκυονίδας τὰς ἡμέρας</td>\n",
       "      <td>grc</td>\n",
       "    </tr>\n",
       "    <tr>\n",
       "      <th>2</th>\n",
       "      <td>1</td>\n",
       "      <td>ангеловецъ</td>\n",
       "      <td>περὶ ἀγγελίτων</td>\n",
       "      <td>grc</td>\n",
       "    </tr>\n",
       "    <tr>\n",
       "      <th>3</th>\n",
       "      <td>1</td>\n",
       "      <td>анкира</td>\n",
       "      <td>ἄγκυρα</td>\n",
       "      <td>grc</td>\n",
       "    </tr>\n",
       "    <tr>\n",
       "      <th>4</th>\n",
       "      <td>1</td>\n",
       "      <td>апоновь</td>\n",
       "      <td>ἐπὶ ἐσχάρας</td>\n",
       "      <td>grc</td>\n",
       "    </tr>\n",
       "    <tr>\n",
       "      <th>...</th>\n",
       "      <td>...</td>\n",
       "      <td>...</td>\n",
       "      <td>...</td>\n",
       "      <td>...</td>\n",
       "    </tr>\n",
       "    <tr>\n",
       "      <th>33601</th>\n",
       "      <td>9</td>\n",
       "      <td>мятежелюбство</td>\n",
       "      <td>νεωτεροποιΐαν</td>\n",
       "      <td>grc</td>\n",
       "    </tr>\n",
       "    <tr>\n",
       "      <th>33602</th>\n",
       "      <td>9</td>\n",
       "      <td>мятежетворецъ</td>\n",
       "      <td>στασιασταί</td>\n",
       "      <td>grc</td>\n",
       "    </tr>\n",
       "    <tr>\n",
       "      <th>33603</th>\n",
       "      <td>9</td>\n",
       "      <td>мятение</td>\n",
       "      <td>ταραχή</td>\n",
       "      <td>grc</td>\n",
       "    </tr>\n",
       "    <tr>\n",
       "      <th>33604</th>\n",
       "      <td>9</td>\n",
       "      <td>мятение</td>\n",
       "      <td>καθ’ ὕπαρ φαντάσματα</td>\n",
       "      <td>grc</td>\n",
       "    </tr>\n",
       "    <tr>\n",
       "      <th>33605</th>\n",
       "      <td>9</td>\n",
       "      <td>мячитися</td>\n",
       "      <td>μαλάσσεται</td>\n",
       "      <td>grc</td>\n",
       "    </tr>\n",
       "  </tbody>\n",
       "</table>\n",
       "<p>33606 rows × 4 columns</p>\n",
       "</div>"
      ],
      "text/plain": [
       "      edition          lemma             etym_lemma lang\n",
       "0           1          аистъ               bocianow  pol\n",
       "1           1   алкионитский  ἀλκυονίδας τὰς ἡμέρας  grc\n",
       "2           1     ангеловецъ         περὶ ἀγγελίτων  grc\n",
       "3           1         анкира                 ἄγκυρα  grc\n",
       "4           1        апоновь            ἐπὶ ἐσχάρας  grc\n",
       "...       ...            ...                    ...  ...\n",
       "33601       9  мятежелюбство          νεωτεροποιΐαν  grc\n",
       "33602       9  мятежетворецъ             στασιασταί  grc\n",
       "33603       9        мятение                 ταραχή  grc\n",
       "33604       9        мятение   καθ’ ὕπαρ φαντάσματα  grc\n",
       "33605       9       мячитися             μαλάσσεται  grc\n",
       "\n",
       "[33606 rows x 4 columns]"
      ]
     },
     "execution_count": 179,
     "metadata": {},
     "output_type": "execute_result"
    }
   ],
   "source": [
    "new_gloss"
   ]
  },
  {
   "cell_type": "code",
   "execution_count": 90,
   "metadata": {},
   "outputs": [
    {
     "data": {
      "text/html": [
       "<div>\n",
       "<style scoped>\n",
       "    .dataframe tbody tr th:only-of-type {\n",
       "        vertical-align: middle;\n",
       "    }\n",
       "\n",
       "    .dataframe tbody tr th {\n",
       "        vertical-align: top;\n",
       "    }\n",
       "\n",
       "    .dataframe thead th {\n",
       "        text-align: right;\n",
       "    }\n",
       "</style>\n",
       "<table border=\"1\" class=\"dataframe\">\n",
       "  <thead>\n",
       "    <tr style=\"text-align: right;\">\n",
       "      <th></th>\n",
       "      <th>выпуск</th>\n",
       "      <th>лемма</th>\n",
       "      <th>старый тег</th>\n",
       "      <th>новый тег</th>\n",
       "    </tr>\n",
       "    <tr>\n",
       "      <th>1</th>\n",
       "      <th></th>\n",
       "      <th></th>\n",
       "      <th></th>\n",
       "      <th></th>\n",
       "    </tr>\n",
       "  </thead>\n",
       "  <tbody>\n",
       "    <tr>\n",
       "      <th>2</th>\n",
       "      <td>1</td>\n",
       "      <td>аистъ</td>\n",
       "      <td>&lt;gloss lang=\"pl\" class=\"ex\"&gt;(bocianow)&lt;/gloss&gt;</td>\n",
       "      <td>&lt;gloss lang=\"pol\" class=\"ex\"&gt;(bocianow)&lt;/gloss&gt;</td>\n",
       "    </tr>\n",
       "    <tr>\n",
       "      <th>3</th>\n",
       "      <td>1</td>\n",
       "      <td>алкионитский</td>\n",
       "      <td>&lt;gloss lang=\"grc\" class=\"ex\"&gt;(ἀλκυονίδας τὰς ἡ...</td>\n",
       "      <td>&lt;gloss lang=\"grc\" class=\"ex\"&gt;(ἀλκυονίδας τὰς ἡ...</td>\n",
       "    </tr>\n",
       "    <tr>\n",
       "      <th>4</th>\n",
       "      <td>1</td>\n",
       "      <td>ангеловецъ</td>\n",
       "      <td>&lt;gloss lang=\"grc\" class=\"ex\"&gt;(περὶ ἀγγελίτων)&lt;...</td>\n",
       "      <td>&lt;gloss lang=\"grc\" class=\"ex\"&gt;(περὶ ἀγγελίτων)&lt;...</td>\n",
       "    </tr>\n",
       "    <tr>\n",
       "      <th>5</th>\n",
       "      <td>1</td>\n",
       "      <td>анкира</td>\n",
       "      <td>&lt;gloss lang=\"grc\" class=\"ex\"&gt;(ἄγκυρα)&lt;/gloss&gt;</td>\n",
       "      <td>&lt;gloss lang=\"grc\" class=\"ex\"&gt;(ἄγκυρα)&lt;/gloss&gt;</td>\n",
       "    </tr>\n",
       "    <tr>\n",
       "      <th>6</th>\n",
       "      <td>1</td>\n",
       "      <td>апоновь</td>\n",
       "      <td>&lt;gloss lang=\"grc\" class=\"ex\"&gt;(ἐπὶ ἐσχάρας)&lt;/gl...</td>\n",
       "      <td>&lt;gloss lang=\"grc\" class=\"ex\"&gt;(ἐπὶ ἐσχάρας)&lt;/gl...</td>\n",
       "    </tr>\n",
       "    <tr>\n",
       "      <th>...</th>\n",
       "      <td>...</td>\n",
       "      <td>...</td>\n",
       "      <td>...</td>\n",
       "      <td>...</td>\n",
       "    </tr>\n",
       "    <tr>\n",
       "      <th>33603</th>\n",
       "      <td>9</td>\n",
       "      <td>мятежелюбство</td>\n",
       "      <td>&lt;gloss lang=\"grc\" class=\"ex\"&gt;(νεωτεροποιΐαν)&lt;/...</td>\n",
       "      <td>&lt;gloss lang=\"grc\" class=\"ex\"&gt;(νεωτεροποιΐαν)&lt;/...</td>\n",
       "    </tr>\n",
       "    <tr>\n",
       "      <th>33604</th>\n",
       "      <td>9</td>\n",
       "      <td>мятежетворецъ</td>\n",
       "      <td>&lt;gloss lang=\"grc\" class=\"ex\"&gt;(στασιασταί)&lt;/gloss&gt;</td>\n",
       "      <td>&lt;gloss lang=\"grc\" class=\"ex\"&gt;(στασιασταί)&lt;/gloss&gt;</td>\n",
       "    </tr>\n",
       "    <tr>\n",
       "      <th>33605</th>\n",
       "      <td>9</td>\n",
       "      <td>мятение</td>\n",
       "      <td>&lt;gloss lang=\"grc\" class=\"ex\"&gt;(ταραχή)&lt;/gloss&gt;</td>\n",
       "      <td>&lt;gloss lang=\"grc\" class=\"ex\"&gt;(ταραχή)&lt;/gloss&gt;</td>\n",
       "    </tr>\n",
       "    <tr>\n",
       "      <th>33606</th>\n",
       "      <td>9</td>\n",
       "      <td>мятение</td>\n",
       "      <td>&lt;gloss lang=\"grc\" class=\"ex\"&gt;(καθ’ ὕπαρ φαντάσ...</td>\n",
       "      <td>&lt;gloss lang=\"grc\" class=\"ex\"&gt;(καθ’ ὕπαρ φαντάσ...</td>\n",
       "    </tr>\n",
       "    <tr>\n",
       "      <th>33607</th>\n",
       "      <td>9</td>\n",
       "      <td>мячитися</td>\n",
       "      <td>&lt;gloss lang=\"grc\" class=\"ex\"&gt;(μαλάσσεται)&lt;/gloss&gt;</td>\n",
       "      <td>&lt;gloss lang=\"grc\" class=\"ex\"&gt;(μαλάσσεται)&lt;/gloss&gt;</td>\n",
       "    </tr>\n",
       "  </tbody>\n",
       "</table>\n",
       "<p>33606 rows × 4 columns</p>\n",
       "</div>"
      ],
      "text/plain": [
       "       выпуск          лемма  \\\n",
       "1                              \n",
       "2           1          аистъ   \n",
       "3           1   алкионитский   \n",
       "4           1     ангеловецъ   \n",
       "5           1         анкира   \n",
       "6           1        апоновь   \n",
       "...       ...            ...   \n",
       "33603       9  мятежелюбство   \n",
       "33604       9  мятежетворецъ   \n",
       "33605       9        мятение   \n",
       "33606       9        мятение   \n",
       "33607       9       мячитися   \n",
       "\n",
       "                                              старый тег  \\\n",
       "1                                                          \n",
       "2         <gloss lang=\"pl\" class=\"ex\">(bocianow)</gloss>   \n",
       "3      <gloss lang=\"grc\" class=\"ex\">(ἀλκυονίδας τὰς ἡ...   \n",
       "4      <gloss lang=\"grc\" class=\"ex\">(περὶ ἀγγελίτων)<...   \n",
       "5          <gloss lang=\"grc\" class=\"ex\">(ἄγκυρα)</gloss>   \n",
       "6      <gloss lang=\"grc\" class=\"ex\">(ἐπὶ ἐσχάρας)</gl...   \n",
       "...                                                  ...   \n",
       "33603  <gloss lang=\"grc\" class=\"ex\">(νεωτεροποιΐαν)</...   \n",
       "33604  <gloss lang=\"grc\" class=\"ex\">(στασιασταί)</gloss>   \n",
       "33605      <gloss lang=\"grc\" class=\"ex\">(ταραχή)</gloss>   \n",
       "33606  <gloss lang=\"grc\" class=\"ex\">(καθ’ ὕπαρ φαντάσ...   \n",
       "33607  <gloss lang=\"grc\" class=\"ex\">(μαλάσσεται)</gloss>   \n",
       "\n",
       "                                               новый тег  \n",
       "1                                                         \n",
       "2        <gloss lang=\"pol\" class=\"ex\">(bocianow)</gloss>  \n",
       "3      <gloss lang=\"grc\" class=\"ex\">(ἀλκυονίδας τὰς ἡ...  \n",
       "4      <gloss lang=\"grc\" class=\"ex\">(περὶ ἀγγελίτων)<...  \n",
       "5          <gloss lang=\"grc\" class=\"ex\">(ἄγκυρα)</gloss>  \n",
       "6      <gloss lang=\"grc\" class=\"ex\">(ἐπὶ ἐσχάρας)</gl...  \n",
       "...                                                  ...  \n",
       "33603  <gloss lang=\"grc\" class=\"ex\">(νεωτεροποιΐαν)</...  \n",
       "33604  <gloss lang=\"grc\" class=\"ex\">(στασιασταί)</gloss>  \n",
       "33605      <gloss lang=\"grc\" class=\"ex\">(ταραχή)</gloss>  \n",
       "33606  <gloss lang=\"grc\" class=\"ex\">(καθ’ ὕπαρ φαντάσ...  \n",
       "33607  <gloss lang=\"grc\" class=\"ex\">(μαλάσσεται)</gloss>  \n",
       "\n",
       "[33606 rows x 4 columns]"
      ]
     },
     "execution_count": 90,
     "metadata": {},
     "output_type": "execute_result"
    }
   ],
   "source": [
    "gloss"
   ]
  },
  {
   "cell_type": "code",
   "execution_count": 10,
   "metadata": {},
   "outputs": [
    {
     "data": {
      "text/html": [
       "<div>\n",
       "<style scoped>\n",
       "    .dataframe tbody tr th:only-of-type {\n",
       "        vertical-align: middle;\n",
       "    }\n",
       "\n",
       "    .dataframe tbody tr th {\n",
       "        vertical-align: top;\n",
       "    }\n",
       "\n",
       "    .dataframe thead th {\n",
       "        text-align: right;\n",
       "    }\n",
       "</style>\n",
       "<table border=\"1\" class=\"dataframe\">\n",
       "  <thead>\n",
       "    <tr style=\"text-align: right;\">\n",
       "      <th></th>\n",
       "      <th>edition</th>\n",
       "      <th>lemma</th>\n",
       "      <th>gloss</th>\n",
       "      <th>lang</th>\n",
       "    </tr>\n",
       "    <tr>\n",
       "      <th>1</th>\n",
       "      <th></th>\n",
       "      <th></th>\n",
       "      <th></th>\n",
       "      <th></th>\n",
       "    </tr>\n",
       "  </thead>\n",
       "  <tbody>\n",
       "    <tr>\n",
       "      <th>2</th>\n",
       "      <td>1</td>\n",
       "      <td>аистъ</td>\n",
       "      <td>(bocianow)</td>\n",
       "      <td>pl</td>\n",
       "    </tr>\n",
       "    <tr>\n",
       "      <th>3</th>\n",
       "      <td>1</td>\n",
       "      <td>алкионитский</td>\n",
       "      <td>(ἀλκυονίδας τὰς ἡμέρας)</td>\n",
       "      <td>grc</td>\n",
       "    </tr>\n",
       "    <tr>\n",
       "      <th>4</th>\n",
       "      <td>1</td>\n",
       "      <td>ангеловецъ</td>\n",
       "      <td>(περὶ ἀγγελίτων)</td>\n",
       "      <td>grc</td>\n",
       "    </tr>\n",
       "    <tr>\n",
       "      <th>5</th>\n",
       "      <td>1</td>\n",
       "      <td>анкира</td>\n",
       "      <td>(ἄγκυρα)</td>\n",
       "      <td>grc</td>\n",
       "    </tr>\n",
       "    <tr>\n",
       "      <th>6</th>\n",
       "      <td>1</td>\n",
       "      <td>апоновь</td>\n",
       "      <td>(ἐπὶ ἐσχάρας)</td>\n",
       "      <td>grc</td>\n",
       "    </tr>\n",
       "    <tr>\n",
       "      <th>...</th>\n",
       "      <td>...</td>\n",
       "      <td>...</td>\n",
       "      <td>...</td>\n",
       "      <td>...</td>\n",
       "    </tr>\n",
       "    <tr>\n",
       "      <th>30471</th>\n",
       "      <td>27</td>\n",
       "      <td>старинствовати</td>\n",
       "      <td>(ἡγεμονεύοντος)</td>\n",
       "      <td>grc</td>\n",
       "    </tr>\n",
       "    <tr>\n",
       "      <th>30472</th>\n",
       "      <td>27</td>\n",
       "      <td>старица</td>\n",
       "      <td>(μία γραῖα)</td>\n",
       "      <td>grc</td>\n",
       "    </tr>\n",
       "    <tr>\n",
       "      <th>30473</th>\n",
       "      <td>27</td>\n",
       "      <td>старица</td>\n",
       "      <td>(εἰς...γραιΐδα)</td>\n",
       "      <td>grc</td>\n",
       "    </tr>\n",
       "    <tr>\n",
       "      <th>30474</th>\n",
       "      <td>27</td>\n",
       "      <td>старица</td>\n",
       "      <td>(μετά τινων πρεσβυτίδων)</td>\n",
       "      <td>grc</td>\n",
       "    </tr>\n",
       "    <tr>\n",
       "      <th>30475</th>\n",
       "      <td>27</td>\n",
       "      <td>старица</td>\n",
       "      <td>(τάς λεγομένας πρεσβύτιδας)</td>\n",
       "      <td>grc</td>\n",
       "    </tr>\n",
       "  </tbody>\n",
       "</table>\n",
       "<p>33606 rows × 4 columns</p>\n",
       "</div>"
      ],
      "text/plain": [
       "       edition           lemma                        gloss lang\n",
       "1                                                               \n",
       "2            1           аистъ                   (bocianow)   pl\n",
       "3            1    алкионитский      (ἀλκυονίδας τὰς ἡμέρας)  grc\n",
       "4            1      ангеловецъ             (περὶ ἀγγελίτων)  grc\n",
       "5            1          анкира                     (ἄγκυρα)  grc\n",
       "6            1         апоновь                (ἐπὶ ἐσχάρας)  grc\n",
       "...        ...             ...                          ...  ...\n",
       "30471       27  старинствовати              (ἡγεμονεύοντος)  grc\n",
       "30472       27         старица                  (μία γραῖα)  grc\n",
       "30473       27         старица              (εἰς...γραιΐδα)  grc\n",
       "30474       27         старица     (μετά τινων πρεσβυτίδων)  grc\n",
       "30475       27         старица  (τάς λεγομένας πρεσβύτιδας)  grc\n",
       "\n",
       "[33606 rows x 4 columns]"
      ]
     },
     "execution_count": 10,
     "metadata": {},
     "output_type": "execute_result"
    }
   ],
   "source": [
    "gloss"
   ]
  },
  {
   "cell_type": "code",
   "execution_count": 180,
   "metadata": {},
   "outputs": [],
   "source": [
    "new_gloss.to_csv('glosses.csv')"
   ]
  },
  {
   "cell_type": "code",
   "execution_count": null,
   "metadata": {},
   "outputs": [],
   "source": []
  }
 ],
 "metadata": {
  "kernelspec": {
   "display_name": "Python 3",
   "language": "python",
   "name": "python3"
  },
  "language_info": {
   "codemirror_mode": {
    "name": "ipython",
    "version": 3
   },
   "file_extension": ".py",
   "mimetype": "text/x-python",
   "name": "python",
   "nbconvert_exporter": "python",
   "pygments_lexer": "ipython3",
   "version": "3.9.6"
  },
  "orig_nbformat": 4
 },
 "nbformat": 4,
 "nbformat_minor": 2
}
