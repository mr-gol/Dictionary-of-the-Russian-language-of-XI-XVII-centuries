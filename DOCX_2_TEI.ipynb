{
  "cells": [
    {
      "cell_type": "code",
      "execution_count": 53,
      "metadata": {
        "id": "4wHpsgJaBFDL",
        "colab": {
          "base_uri": "https://localhost:8080/"
        },
        "outputId": "6c1d99b5-545e-45a0-e219-4b0fd933c5a0"
      },
      "outputs": [
        {
          "output_type": "stream",
          "name": "stdout",
          "text": [
            "Requirement already satisfied: python-docx in /usr/local/lib/python3.10/dist-packages (1.1.0)\n",
            "Requirement already satisfied: lxml>=3.1.0 in /usr/local/lib/python3.10/dist-packages (from python-docx) (4.9.4)\n",
            "Requirement already satisfied: typing-extensions in /usr/local/lib/python3.10/dist-packages (from python-docx) (4.10.0)\n"
          ]
        }
      ],
      "source": [
        "pip install python-docx"
      ],
      "id": "4wHpsgJaBFDL"
    },
    {
      "cell_type": "code",
      "execution_count": 54,
      "metadata": {
        "id": "ceda47c9"
      },
      "outputs": [],
      "source": [
        "from docx import Document\n",
        "import tqdm\n",
        "import os\n",
        "import time\n",
        "import string\n",
        "import json\n",
        "import re"
      ],
      "id": "ceda47c9"
    },
    {
      "cell_type": "markdown",
      "metadata": {
        "id": "79a2b4c2"
      },
      "source": [
        "Функция строки состояния, чтобы избежать бесконечных циклов"
      ],
      "id": "79a2b4c2"
    },
    {
      "cell_type": "code",
      "execution_count": 55,
      "metadata": {
        "id": "ad210f35"
      },
      "outputs": [],
      "source": [
        "def spy(par_cur, par_len):\n",
        "    done = \"=\" * (par_cur * 20 // par_len)\n",
        "    undone = \" \" * (20 - (par_cur * 20 // par_len))\n",
        "    percent = round(par_cur * 100 // par_len)\n",
        "    print(f'[{done}{undone}]\\t{percent}%', end='\\r')"
      ],
      "id": "ad210f35"
    },
    {
      "cell_type": "code",
      "execution_count": 112,
      "metadata": {
        "id": "ERYVM1Lv8g3h"
      },
      "outputs": [],
      "source": [
        "def getcitspan(text, addmeaning=False): # обработка спана примеров\n",
        "    get_time = re.compile(r'(\\d+.г\\.|\\d+–\\d+.гг\\.|[XVI]+–[XVI]+.вв\\..?|[XVI]+.в\\..\\~.[XVI]+.в\\..?|[XVI]+–[XVI]+.вв\\..?|[XVI]+.в\\..\\~.[XVI]+.в\\..?|[XVI]+.в\\..\\~.\\d+.г\\..?|[XVI]+.в\\..?)')\n",
        "    get_source = re.compile(r'(?<=[a-zа-яёα-ωѣ]\\.) (?=[([{А-ЯЁѢ])')\n",
        "    jfile = []\n",
        "    runs = get_time.split(text) # деление текста примеров по значениям времени\n",
        "    idx = 0\n",
        "    while idx < len(runs)-1:\n",
        "        try:\n",
        "            if runs[idx][0].isalpha():\n",
        "                inf = get_source.split(runs[idx]) # выделение источника\n",
        "                if len(runs[idx]) > 0 and len(runs[idx+1]) > 0:\n",
        "                    if len(inf) == 2 and (runs[idx+1][0].isnumeric() or runs[idx+1][0] in ('I', 'V', 'X')):\n",
        "                        if '~' in runs[idx+1]:\n",
        "                            try:\n",
        "                                date, orig_date = runs[idx+1].split(' ~ ')\n",
        "                                jfile.append({'text': inf[0], 'date': date, 'orig_date': orig_date, 'source': inf[1]})\n",
        "                            except:\n",
        "                                jfile.append({'text': inf[0], 'date': runs[idx+1], 'source': inf[1]})\n",
        "                        else:\n",
        "                            jfile.append({'text': inf[0], 'date': runs[idx+1], 'source': inf[1]})\n",
        "                        if addmeaning != False:\n",
        "                            jfile[-1]['side_meaning'] = addmeaning\n",
        "                        idx += 2\n",
        "\n",
        "                    elif len(inf) < 2 and (runs[idx+1][0].isnumeric() or runs[idx+1][0] in ('I', 'V', 'X')):\n",
        "                        if '~' in runs[idx+1]:\n",
        "                            try:\n",
        "                                date, orig_date = runs[idx+1].split(' ~ ')\n",
        "                                jfile.append({'text': runs[idx], 'date': date, 'orig_date': orig_date, 'source': ''})\n",
        "                            except:\n",
        "                                jfile.append({'text': runs[idx], 'date': runs[idx+1], 'source': ''})\n",
        "                        else:\n",
        "                            jfile.append({'text': runs[idx], 'date': runs[idx+1], 'source': ''})\n",
        "                        if addmeaning != False:\n",
        "                            jfile[-1]['side_meaning'] = addmeaning\n",
        "                        idx += 2\n",
        "\n",
        "                    else:\n",
        "                        problem['c'].append(('inf is longer than 2', text, inf, runs[idx], runs[idx+1]))\n",
        "                        idx += 1\n",
        "                else:\n",
        "                    problem['c'].append(('there are empty runs', text, runs[idx], runs[idx+1]))\n",
        "                    idx += 1\n",
        "            else:\n",
        "                idx += 1\n",
        "        except:\n",
        "            idx += 1\n",
        "    return jfile"
      ],
      "id": "ERYVM1Lv8g3h"
    },
    {
      "cell_type": "code",
      "execution_count": 58,
      "metadata": {
        "id": "cb23a89a"
      },
      "outputs": [],
      "source": [
        "def getcitlist(text): # обработка примеров\n",
        "    jfile = []\n",
        "    if len(text.split(' ||\\xa0')) == 1: # если в примерах не указаны подзначения\n",
        "        jfile.extend(getcitspan(text))\n",
        "\n",
        "    else: # случай, если есть подзначения\n",
        "        first = text.split(' ||\\xa0')[0]\n",
        "        jfile.extend(getcitspan(first))\n",
        "\n",
        "        for citation in text.split(' ||\\xa0')[1:]: # примеры с подзначением получают дополнительное поле\n",
        "            side_meaning = citation.split('. ')[0].strip() + '.'\n",
        "            cit = citation.replace(side_meaning, '').strip()\n",
        "            jfile.extend(getcitspan(cit, side_meaning))\n",
        "    return jfile"
      ],
      "id": "cb23a89a"
    },
    {
      "cell_type": "code",
      "execution_count": 59,
      "metadata": {
        "id": "7b427ea0"
      },
      "outputs": [],
      "source": [
        "def getnumber(non_empty): # выделение номера значения\n",
        "    run_cur = 0\n",
        "\n",
        "    if non_empty[run_cur].text.strip(string.punctuation+' ').isnumeric():\n",
        "        number = non_empty[run_cur].text.strip(string.punctuation+' ')\n",
        "        run_cur += 1\n",
        "        while non_empty[run_cur].text.strip(string.punctuation+' ').isnumeric(): # случай выделения числа в разные спаны\n",
        "            number += non_empty[run_cur].text.strip(string.punctuation+' ')\n",
        "            run_cur += 1\n",
        "    elif len(non_empty[run_cur].text.split()) > 0 and \\\n",
        "                                        non_empty[run_cur].text.split()[0].strip(string.punctuation+' ').isnumeric():\n",
        "         # случай невыделения числа в отдельный спан\n",
        "        number = non_empty[run_cur].text.split()[0].strip(string.punctuation+' ')\n",
        "    elif non_empty[run_cur].text.strip(string.punctuation+' ') in ('', '◊', '–'): # случай устойчивых выражений\n",
        "        number = '◊'\n",
        "        run_cur += 1\n",
        "    elif non_empty[run_cur].text.strip(string.punctuation+' ') in ('I', 'II', 'III', 'IV', 'V', 'VI', 'VII', 'VIII', 'IX', 'X'):\n",
        "         # случай омонимичных элементов\n",
        "        number = non_empty[run_cur].text.strip(string.punctuation+' ')\n",
        "        run_cur += 1\n",
        "    else: # случай единственного значения\n",
        "        number = '0'\n",
        "\n",
        "    return number, non_empty[run_cur:]"
      ],
      "id": "7b427ea0"
    },
    {
      "cell_type": "code",
      "execution_count": 95,
      "metadata": {
        "id": "7138a5ff"
      },
      "outputs": [],
      "source": [
        "def getdef(runs, non_empty): # выделение значения\n",
        "    gram = {'c', 'с', 'глаг', 'ж', 'м',\n",
        "            'мест', 'мн', 'нареч', 'предлог', 'прил',\n",
        "            'союз', 'частица', 'собир', 'ж., собир',\n",
        "            'м. собир', 'с. собир', 'прил. неизм', 'неизм',\n",
        "            'ж. неизм', 'м. неизм', 'с. неизм'}\n",
        "\n",
        "    getref = re.compile(r'То же, что( \\w+){1,2} \\(.+?\\)\\.')\n",
        "    getref2 = re.compile(r'То же, что( \\w+){1,2} \\(.+?\\)\\;')\n",
        "    getref3 = re.compile(r'Уменьш.-ласк. к( \\w+){1,2} \\(.+\\)\\.')\n",
        "    getref4 = re.compile(r'см\\. (\\w+){1,2} в знач\\. \\d+')\n",
        "    getref5 = re.compile(r'см\\. (\\w+){1,2} \\(в знач\\. \\d+\\)')\n",
        "    getref6 = re.compile(r'см\\. (\\w+){1,2}')\n",
        "\n",
        "\n",
        "    reference = getref.search(''.join([run.text for run in runs]))\n",
        "    if reference != None:\n",
        "        txt = reference.group()\n",
        "        run_cur = 0\n",
        "        while run_cur < len(non_empty) and non_empty[run_cur].text not in txt:\n",
        "            run_cur += 1\n",
        "        while run_cur < len(non_empty) and non_empty[run_cur].text in txt:\n",
        "            run_cur += 1\n",
        "        return txt, non_empty[run_cur:]\n",
        "\n",
        "    reference = getref2.search(''.join([run.text for run in runs]))\n",
        "    if reference != None:\n",
        "        txt = reference.group()\n",
        "        run_cur = 0\n",
        "        while run_cur < len(non_empty) and non_empty[run_cur].text not in txt:\n",
        "            run_cur += 1\n",
        "        while run_cur < len(non_empty) and non_empty[run_cur].text in txt:\n",
        "            run_cur += 1\n",
        "        return txt, non_empty[run_cur:]\n",
        "\n",
        "    reference = getref3.search(''.join([run.text for run in runs]))\n",
        "    if reference != None:\n",
        "        txt = reference.group()\n",
        "        run_cur = 0\n",
        "        while run_cur < len(non_empty) and non_empty[run_cur].text not in txt:\n",
        "            run_cur += 1\n",
        "        while run_cur < len(non_empty) and non_empty[run_cur].text in txt:\n",
        "            run_cur += 1\n",
        "        return txt, non_empty[run_cur:]\n",
        "\n",
        "    reference = getref4.search(''.join([run.text for run in runs]))\n",
        "    if reference != None:\n",
        "        txt = reference.group()\n",
        "        run_cur = 0\n",
        "        while run_cur < len(non_empty) and non_empty[run_cur].text not in txt:\n",
        "            run_cur += 1\n",
        "        while run_cur < len(non_empty) and non_empty[run_cur].text in txt:\n",
        "            run_cur += 1\n",
        "        return txt, non_empty[run_cur:]\n",
        "\n",
        "    reference = getref5.search(''.join([run.text for run in runs]))\n",
        "    if reference != None:\n",
        "        txt = reference.group()\n",
        "        run_cur = 0\n",
        "        while run_cur < len(non_empty) and non_empty[run_cur].text not in txt:\n",
        "            run_cur += 1\n",
        "        while run_cur < len(non_empty) and non_empty[run_cur].text in txt:\n",
        "            run_cur += 1\n",
        "        return txt, non_empty[run_cur:]\n",
        "\n",
        "    reference = getref6.search(''.join([run.text for run in runs]))\n",
        "    if reference != None:\n",
        "        txt = reference.group()\n",
        "        run_cur = 0\n",
        "        while run_cur < len(non_empty) and non_empty[run_cur].text not in txt:\n",
        "            run_cur += 1\n",
        "        while run_cur < len(non_empty) and non_empty[run_cur].text in txt:\n",
        "            run_cur += 1\n",
        "        return txt, non_empty[run_cur:]\n",
        "\n",
        "    run_cur = -1\n",
        "    idx_start = -1\n",
        "\n",
        "    if run_cur == -1:\n",
        "        run_cur = 0\n",
        "    if idx_start == -1:\n",
        "        idx_start = runs.index(non_empty[run_cur])\n",
        "\n",
        "    while run_cur < len(non_empty) and (non_empty[run_cur].italic or \\\n",
        "                        (non_empty[run_cur].text.strip() and non_empty[run_cur].text.strip()[0].islower())):\n",
        "        run_cur += 1\n",
        "\n",
        "    try:\n",
        "        idx_end = runs.index(non_empty[run_cur])\n",
        "        txt = ''.join([run.text for run in runs[idx_start:idx_end]]) # восстановение вида значения с пунктуацией\n",
        "    except:\n",
        "        idx_end = runs.index(non_empty[run_cur-1])\n",
        "        txt = ''.join([run.text for run in runs[idx_start:idx_end]]) # восстановение вида значения с пунктуацией\n",
        "    try:\n",
        "        if idx_end < len(runs) and (non_empty[run_cur].text.split() != [] or runs[idx_end].text.split() != []):\n",
        "            # добавление конечной пунктуации\n",
        "            if runs[idx_end].text.split() == []:\n",
        "                if non_empty[run_cur].text.split()[0].strip(string.punctuation) == '':\n",
        "                    txt += non_empty[run_cur].text.split()[0]\n",
        "            elif runs[idx_end].text.split()[0].strip(string.punctuation) == '':\n",
        "                txt += runs[idx_end].text.split()[0]\n",
        "        return txt, non_empty[run_cur:]\n",
        "    except:\n",
        "        return txt, non_empty\n",
        "        problem['d'].append(runs)"
      ],
      "id": "7138a5ff"
    },
    {
      "cell_type": "code",
      "execution_count": 105,
      "metadata": {
        "id": "d0160b99"
      },
      "outputs": [],
      "source": [
        "def parsesense(runs, gram=''): # обработка значения\n",
        "    jfile = {}\n",
        "    non_empty = []\n",
        "\n",
        "    i = 0\n",
        "    while i < len(runs): # чистка вхождений от пустых спанов\n",
        "        if runs[i].text.strip(string.punctuation+' ') != '' or runs[i].text == '?':\n",
        "            non_empty.append(runs[i])\n",
        "        i += 1\n",
        "\n",
        "    if len(non_empty) == 0:\n",
        "        return\n",
        "\n",
        "    jfile['num'], non_empty = getnumber(non_empty) # выделение номера\n",
        "\n",
        "    if len(non_empty) == 0:\n",
        "        return\n",
        "\n",
        "    run_cur = 0\n",
        "    additional = ''\n",
        "    while run_cur < len(non_empty) and not non_empty[run_cur].italic: # выделение дополнительной информации\n",
        "        additional += non_empty[run_cur].text\n",
        "        run_cur += 1\n",
        "    jfile['additional'] = additional\n",
        "\n",
        "    if run_cur >= len(non_empty):\n",
        "        problem['s'].append(runs)\n",
        "        return\n",
        "\n",
        "    definition, non_empty = getdef(runs, non_empty[run_cur:]) # выделение значения\n",
        "\n",
        "    if gram != '':\n",
        "         # удаление грамматической информации из значения\n",
        "        definition = re.sub(fr'\\A\\s*{gram}\\.?', '', definition)\n",
        "    if not len(definition.strip()) > 0:\n",
        "        problem['s'].append(runs)\n",
        "    elif definition.strip()[0].isnumeric():\n",
        "         # удаление номера из значения\n",
        "        definition = re.sub(fr'\\A\\s*\\d+\\.?\\s*', '', definition)\n",
        "\n",
        "    jfile['definition'] = definition\n",
        "\n",
        "    if len(non_empty) == 0:\n",
        "        return\n",
        "\n",
        "    idx = runs.index(non_empty[0]) # удаление лишних символов из значений\n",
        "    rest = ''.join([run.text for run in runs[idx:]])\n",
        "    rest = rest[1:] if rest[0] == '.' else rest\n",
        "    rest = rest[1:] if rest[0] == ' ' else rest\n",
        "\n",
        "    jfile['citations'] = getcitlist(rest) # выделение примеров\n",
        "    return jfile"
      ],
      "id": "d0160b99"
    },
    {
      "cell_type": "code",
      "execution_count": 62,
      "metadata": {
        "id": "84701ef1"
      },
      "outputs": [],
      "source": [
        "def getgram(runs): # выделение грамматической информации\n",
        "    gram = {'c', 'с', 'глаг', 'ж', 'м',\n",
        "            'мест', 'мн', 'нареч', 'предлог', 'прил',\n",
        "            'союз', 'частица', 'собир', 'ж., собир',\n",
        "            'м. собир', 'с. собир', 'прил. неизм', 'неизм',\n",
        "            'ж. неизм', 'м. неизм', 'с. неизм'}\n",
        "    gram_in_sense = ''\n",
        "    run_cur = 0\n",
        "    grammar = ''\n",
        "\n",
        "    if runs[run_cur].text.strip(' .,') in gram:\n",
        "        grammar = runs[run_cur].text.strip(' .,')\n",
        "        run_cur += 1\n",
        "        if runs[run_cur].text.strip()  in ('.', '.,', ',', ''):\n",
        "            run_cur += 1\n",
        "        if runs[run_cur].text.strip(' .') in gram: # выделение второго грам. показателя\n",
        "            grammar = grammar + '., ' + runs[run_cur].text.strip(' .,')\n",
        "            run_cur += 1\n",
        "        elif runs[run_cur].text.split() != [] and \\\n",
        "                                            runs[run_cur].text.split()[0].strip('.,') in gram:\n",
        "            # выделение второго грам. показателя в случае его невыделения в отдельный спан\n",
        "            grammar = grammar + '., ' + runs[run_cur].text.split()[0].strip('.,')\n",
        "            gram_in_sense = runs[run_cur].text.split()[0].strip('.,')\n",
        "\n",
        "    elif runs[run_cur].text != '\\xa0' and runs[run_cur].text.split()[0].strip('.,') in gram:\n",
        "        # выделение грамматического показателя в случае его невыделения в отдельный спан\n",
        "        if runs[run_cur].text.split()[1].strip('.,') in gram:\n",
        "            grammar = ' '.join(runs[run_cur].text.split()[:2]).strip('.,')\n",
        "        else:\n",
        "            grammar = runs[run_cur].text.split()[0].strip('.,')\n",
        "        gram_in_sense = grammar\n",
        "\n",
        "    return grammar, gram_in_sense, runs[run_cur:]"
      ],
      "id": "84701ef1"
    },
    {
      "cell_type": "code",
      "execution_count": 63,
      "metadata": {
        "id": "05880653"
      },
      "outputs": [],
      "source": [
        "def getetym(runs):\n",
        "    etym = re.compile(r'\\A\\(ср\\. .+?\\).')\n",
        "    text = ''.join([run.text for run in runs])\n",
        "    text = text.strip(' .,')\n",
        "\n",
        "    find = etym.search(text)\n",
        "    if find != None:\n",
        "        etymology = find.group()\n",
        "        run_cur = 0\n",
        "        while run_cur < len(runs) and runs[run_cur].text.strip(' .,') in etymology:\n",
        "            run_cur += 1\n",
        "        return etymology, runs[run_cur:]\n",
        "    return None, runs"
      ],
      "id": "05880653"
    },
    {
      "cell_type": "code",
      "execution_count": 64,
      "metadata": {
        "id": "5caedf17"
      },
      "outputs": [],
      "source": [
        "def parseentry(paragraphs): # обработка входа\n",
        "    jfile = {}\n",
        "    for paragraph in paragraphs:\n",
        "        if paragraph.text.strip(' \\n'+string.punctuation) == '':\n",
        "            continue # пустые абзацы пропускаем и переходим к следующим абзацам\n",
        "\n",
        "        # если первый ран абзаца болдовый или если первый ран - скобка, а второй болдовый, то это начало статьи\n",
        "        if paragraph.runs[0].bold or \\\n",
        "                        (len(paragraph.runs)>1 and paragraph.runs[1].bold and paragraph.runs[0].text in ('[', '(', '<', '{')):\n",
        "            run_cur = 0\n",
        "\n",
        "            while run_cur<len(paragraph.runs) and (paragraph.runs[run_cur].bold \\\n",
        "                                or paragraph.runs[run_cur].text.strip() in ('и', 'или', ',') \\\n",
        "                                or paragraph.runs[run_cur].text.strip(string.punctuation+ ' ') == ''): # выделение форм\n",
        "                run_cur += 1\n",
        "\n",
        "            if run_cur>=len(paragraph.runs):\n",
        "                problem['e'].append(paragraph.text)\n",
        "                return\n",
        "\n",
        "            forms_txt = ''.join([run.text for run in paragraph.runs[:run_cur]])\n",
        "            splitter = re.compile(r'\\s?(,|или|и| )\\s?')\n",
        "            jfile['form'] = ''\n",
        "            jfile['addforms'] = []\n",
        "            for form in splitter.split(forms_txt): # классификация форм\n",
        "                if form.strip('()[]<>{}').isupper():\n",
        "                    if jfile['form'] == '':\n",
        "                        jfile['form'] = form\n",
        "                    else:\n",
        "                        jfile['addforms'].append(form)\n",
        "\n",
        "            while paragraph.runs[run_cur].text.strip(string.punctuation+' ') == '':\n",
        "                run_cur += 1\n",
        "\n",
        "            if paragraph.runs[run_cur].text.strip(string.punctuation+' ') == 'см': # случай ссылки\n",
        "                jfile['reference'] = ''.join([run.text for run in paragraph.runs[run_cur:]])\n",
        "                continue\n",
        "            if paragraph.runs[run_cur].text.strip(string.punctuation+' ') in ('и произ', 'и произв',\n",
        "                                                                            'и произв. см', 'и произ. см'): # случай ссылки 2\n",
        "                jfile['reference'] = ''.join([run.text for run in paragraph.runs[run_cur:]])\n",
        "                continue\n",
        "\n",
        "            while paragraph.runs[run_cur].text.strip(string.punctuation+' ') == '':\n",
        "                run_cur += 1\n",
        "\n",
        "            jfile['grammar'], gram_in_sense, runs = getgram(paragraph.runs[run_cur:]) # выделение грамматической информации\n",
        "            run_cur = 0\n",
        "\n",
        "            while runs[run_cur].text.strip() in ('', ',', 'и', 'или', '.', '. и', '. или'):\n",
        "                run_cur += 1\n",
        "\n",
        "            if runs[run_cur].bold and runs[run_cur].text.strip(string.punctuation+' ').isupper():\n",
        "                start = run_cur\n",
        "                while runs[run_cur].bold or runs[run_cur].text.strip() in ('и', 'или', ',') \\\n",
        "                                        or runs[run_cur].text.strip(string.punctuation+ ' ') == '': # выделение форм\n",
        "                    run_cur += 1\n",
        "                forms_txt = ''.join([run.text for run in runs[start:run_cur]])\n",
        "                form_list = []\n",
        "                for form in splitter.split(forms_txt): # классификация форм\n",
        "                    if form.strip('()[]<>{}').isupper():\n",
        "                        form_list.append(form)\n",
        "                grammar, gram_in_sense, runs = getgram(runs[run_cur:])\n",
        "                jfile['addforms'].append({'forms': form_list, 'grammar': grammar})\n",
        "\n",
        "            etym, runs = getetym(runs)\n",
        "            if etym != None:\n",
        "                jfile['etymology'] = etym\n",
        "\n",
        "            meaning = parsesense(runs, gram=gram_in_sense)\n",
        "            if meaning != None:\n",
        "                jfile['meanings'] = [meaning] # выделенние значения\n",
        "\n",
        "        # а если абзац начинаестя с рана с цифрой или вот чем-то таким, то это абзац с дополнительным значением\n",
        "        elif len(paragraph.text.strip())>0 and paragraph.text.strip()[0].isnumeric() or\\\n",
        "                            paragraph.text.strip()[0] in ('', '◊', '–') or\\\n",
        "                            paragraph.text.strip()[0] in ('I', 'V', 'X') or paragraph.text[0] in ('', ' ', '\\xa0'):\n",
        "            # определение абзаца со значением\n",
        "            meaning = parsesense(paragraph.runs)\n",
        "            if meaning != None:\n",
        "                try:\n",
        "                    jfile['meanings'].append(meaning) # выделение значения\n",
        "                except:\n",
        "                    jfile['meanings'] = [meaning]\n",
        "\n",
        "    return jfile"
      ],
      "id": "5caedf17"
    },
    {
      "cell_type": "code",
      "execution_count": 103,
      "metadata": {
        "id": "c22046dd"
      },
      "outputs": [],
      "source": [
        "def findentries(paragraphs): # выделение абзацев, входящих в одну словарную статью\n",
        "    entries = []\n",
        "    par_len = len(paragraphs)\n",
        "    par_cur = 0\n",
        "    start = 0\n",
        "    while par_cur < par_len - 1:\n",
        "        spy(par_cur, par_len)\n",
        "        paragraph = paragraphs[par_cur]\n",
        "\n",
        "        run_cur = 0\n",
        "        while run_cur < len(paragraph.runs)-1 and paragraph.runs[run_cur].text.strip(string.punctuation+' ') == '':\n",
        "            run_cur += 1\n",
        "\n",
        "        if len(paragraph.runs) > 0 and paragraph.runs[run_cur].bold: # первый абзац статьи\n",
        "            start = par_cur\n",
        "\n",
        "        if not paragraphs[par_cur + 1].runs:# or paragraphs[par_cur + 1].runs[0].bold:\n",
        "            entries.append((start, par_cur))\n",
        "\n",
        "        if len(paragraphs[par_cur + 1].runs) > 0 and paragraphs[par_cur + 1].runs[0].bold:\n",
        "            entries.append((start, par_cur))\n",
        "\n",
        "        par_cur += 1\n",
        "\n",
        "    paragraph = paragraphs[par_cur] # смотрим на последний абзац (?)\n",
        "\n",
        "    run_cur = 0\n",
        "    while run_cur < len(paragraph.runs)-1 and paragraph.runs[run_cur].text.strip(string.punctuation+' ') == '':\n",
        "        run_cur += 1\n",
        "\n",
        "    try:\n",
        "        if paragraph.runs[run_cur].bold:\n",
        "            entries.append((par_cur, par_cur))\n",
        "        else:\n",
        "            entries.append((start, par_cur))\n",
        "    except:\n",
        "        pass\n",
        "\n",
        "    return entries"
      ],
      "id": "c22046dd"
    },
    {
      "cell_type": "code",
      "execution_count": 66,
      "metadata": {
        "id": "366da4f4"
      },
      "outputs": [],
      "source": [
        "def parsedct(doc):\n",
        "    jfile = []\n",
        "    for start, end in tqdm.tqdm(findentries(doc.paragraphs)):\n",
        "        jfile.append(parseentry(doc.paragraphs[start: end+1]))\n",
        "    return jfile"
      ],
      "id": "366da4f4"
    },
    {
      "cell_type": "code",
      "source": [
        "docs2tei = ['28.docx', '29.docx', '30.docx', '31.docx']"
      ],
      "metadata": {
        "id": "xIvm7-lmVEEM"
      },
      "id": "xIvm7-lmVEEM",
      "execution_count": 107,
      "outputs": []
    },
    {
      "cell_type": "code",
      "source": [
        "for d in docs2tei:\n",
        "    name = d\n",
        "    d = Document(d)\n",
        "    problem = {'s': [], 'e': [], 'd': [], 'c':[]}\n",
        "    parsed = parsedct(d)\n",
        "    print(name, len(problem['d']), len(problem['e']), len(problem['s']), len(problem['c']))\n",
        "    with open(f'{name[0:2]}.json', 'w', encoding='utf-8') as f:\n",
        "        json.dump(parsed, f, ensure_ascii=False, indent='\\t')"
      ],
      "metadata": {
        "colab": {
          "base_uri": "https://localhost:8080/"
        },
        "id": "iNms_qFAVG7l",
        "outputId": "7e8b9c2a-9582-4855-8461-9de75d944305"
      },
      "id": "iNms_qFAVG7l",
      "execution_count": 113,
      "outputs": [
        {
          "output_type": "stream",
          "name": "stdout",
          "text": []
        },
        {
          "output_type": "stream",
          "name": "stderr",
          "text": [
            "100%|██████████| 1725/1725 [00:41<00:00, 41.25it/s]\n"
          ]
        },
        {
          "output_type": "stream",
          "name": "stdout",
          "text": [
            "28.docx 0 1 13 2230\n"
          ]
        },
        {
          "output_type": "stream",
          "name": "stderr",
          "text": [
            "100%|██████████| 2508/2508 [02:34<00:00, 16.26it/s]\n"
          ]
        },
        {
          "output_type": "stream",
          "name": "stdout",
          "text": [
            "29.docx 0 3 5 3293\n"
          ]
        },
        {
          "output_type": "stream",
          "name": "stderr",
          "text": [
            "100%|██████████| 2056/2056 [00:41<00:00, 49.83it/s]\n"
          ]
        },
        {
          "output_type": "stream",
          "name": "stdout",
          "text": [
            "30.docx 0 5 3 2896\n"
          ]
        },
        {
          "output_type": "stream",
          "name": "stderr",
          "text": [
            "100%|██████████| 1794/1794 [00:35<00:00, 50.39it/s]\n"
          ]
        },
        {
          "output_type": "stream",
          "name": "stdout",
          "text": [
            "31.docx 0 34 94 2479\n"
          ]
        }
      ]
    },
    {
      "cell_type": "markdown",
      "metadata": {
        "id": "46408695"
      },
      "source": [
        "# Раздел значений"
      ],
      "id": "46408695"
    },
    {
      "cell_type": "code",
      "execution_count": null,
      "metadata": {
        "id": "c979318a"
      },
      "outputs": [],
      "source": [
        "with open('sense_errs.txt', 'w', encoding='utf-8') as f:\n",
        "    for idx, pr in enumerate(problem['s']):\n",
        "        problematic_text = ''.join([run.text for run in pr])\n",
        "        f.write(f'{idx}.\\n{problematic_text}\\n―――――――――――――――――――――――――――――――――――――――――――――――――\\n')"
      ],
      "id": "c979318a"
    },
    {
      "cell_type": "code",
      "execution_count": null,
      "metadata": {
        "id": "0e874a35"
      },
      "outputs": [],
      "source": [
        "with open('cit_errs.txt', 'w', encoding='utf-8') as f:\n",
        "    for idx, pr in enumerate(problem['c']):\n",
        "        problematic_text = pr[0] + '\\nin\\n' + pr[0]\n",
        "        f.write(f'{idx}.\\n{problematic_text}\\n―――――――――――――――――――――――――――――――――――――――――――――――――\\n')"
      ],
      "id": "0e874a35"
    }
  ],
  "metadata": {
    "colab": {
      "provenance": []
    },
    "kernelspec": {
      "display_name": "Python 3 (ipykernel)",
      "language": "python",
      "name": "python3"
    },
    "language_info": {
      "codemirror_mode": {
        "name": "ipython",
        "version": 3
      },
      "file_extension": ".py",
      "mimetype": "text/x-python",
      "name": "python",
      "nbconvert_exporter": "python",
      "pygments_lexer": "ipython3",
      "version": "3.9.12"
    }
  },
  "nbformat": 4,
  "nbformat_minor": 5
}